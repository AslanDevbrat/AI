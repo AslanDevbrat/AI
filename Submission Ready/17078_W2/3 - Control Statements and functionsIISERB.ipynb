{
 "cells": [
  {
   "cell_type": "markdown",
   "metadata": {},
   "source": [
    "## Devbrat Anuragi\n",
    "### 17078"
   ]
  },
  {
   "cell_type": "markdown",
   "metadata": {},
   "source": [
    "### Problem 1:\n",
    "\n",
    "Write a program to check if a value is positive, zero, or negative. \n",
    "\n",
    "- The program should print the result (i.e. \"Value is positive\")\n",
    "- Check your program works by creating a positive, zero, and negative variable and ensure the program outputs the correct response every time\n",
    "- Use if statements"
   ]
  },
  {
   "cell_type": "code",
   "execution_count": 11,
   "metadata": {
    "ExecuteTime": {
     "end_time": "2019-10-28T01:49:40.555651Z",
     "start_time": "2019-10-28T01:49:40.550927Z"
    }
   },
   "outputs": [
    {
     "name": "stdout",
     "output_type": "stream",
     "text": [
      "-1 is negative\n",
      "0 is zero\n",
      "1 is positive\n"
     ]
    }
   ],
   "source": [
    "# Write your code here\n",
    "value = [-1,0,1]\n",
    "for number in value:\n",
    "    if number == 0:\n",
    "        print(f\"{number} is zero\")\n",
    "    elif number <0:\n",
    "        print(f\"{number} is negative\")\n",
    "    elif number >0:\n",
    "        print(f\"{number} is positive\")"
   ]
  },
  {
   "cell_type": "markdown",
   "metadata": {},
   "source": [
    "### Problem 2:\n",
    "\n",
    "Write a program to check if a year is a leap year (see below for the method to determine if a year is a leap year):\n",
    "\n",
    "1. If the year is evenly divisible by 4, go to step 2. Otherwise, go to step 5.\n",
    "2. If the year is evenly divisible by 100, go to step 3. Otherwise, go to step 4.\n",
    "3. If the year is evenly divisible by 400, go to step 4. Otherwise, go to step 5.\n",
    "4. The year is a leap year (it has 366 days).\n",
    "5. The year is not a leap year (it has 365 days).\n",
    "\n",
    "Notes:\n",
    "1. Use nested if-else statements in your answer \n",
    "2. Test your program using the year 2018"
   ]
  },
  {
   "cell_type": "code",
   "execution_count": 19,
   "metadata": {},
   "outputs": [
    {
     "name": "stdout",
     "output_type": "stream",
     "text": [
      "The year is a leap year (it has 366 days).\n"
     ]
    }
   ],
   "source": [
    "# Write your code here\n",
    "year = 2020 #worst year\n",
    "\n",
    "#step 1\n",
    "if year%4 == 0:\n",
    "    \n",
    "    # step 2\n",
    "    if year%100==0:\n",
    "    \n",
    "        #step 3\n",
    "        if year%400 == 0:\n",
    "            \n",
    "            print(\"The year is a leap year (it has 366 days).\")\n",
    "        else:\n",
    "             print(\"The year is not a leap year (it has 365 days).\")\n",
    "    else:\n",
    "        print(\"The year is a leap year (it has 366 days).\")\n",
    "        \n",
    "else:\n",
    "    print(\"The year is not a leap year (it has 365 days).\")\n",
    "    \n",
    "\n"
   ]
  },
  {
   "cell_type": "markdown",
   "metadata": {},
   "source": [
    "### Problem 3\n",
    "\n",
    "Write a program to calculate the maximum value of a list: `[3, 36, 154, 2, 145]` \n",
    "\n",
    "- You should used a `for` loop in your answer\n",
    "- You should use an `if` statement in your answer\n",
    "- Do not use any built-in Python functions\n",
    "- Print the maximum value of the list at the end of your program"
   ]
  },
  {
   "cell_type": "code",
   "execution_count": 35,
   "metadata": {
    "ExecuteTime": {
     "end_time": "2019-10-28T03:49:20.300486Z",
     "start_time": "2019-10-28T03:49:20.298753Z"
    }
   },
   "outputs": [
    {
     "name": "stdout",
     "output_type": "stream",
     "text": [
      "maximum value of a list: [3, 36, 154, 2, 145] is 154\n"
     ]
    }
   ],
   "source": [
    "# Write your code here\n",
    "value_list = [3, 36, 154, 2, 145]\n",
    "maximum = -float('inf')\n",
    "for item in value_list:\n",
    "    if item>maximum:\n",
    "        maximum=item\n",
    "print(f\"maximum value of a list: [3, 36, 154, 2, 145] is {maximum}\")\n",
    "    \n"
   ]
  }
 ],
 "metadata": {
  "kernelspec": {
   "display_name": "Python 3",
   "language": "python",
   "name": "python3"
  },
  "language_info": {
   "codemirror_mode": {
    "name": "ipython",
    "version": 3
   },
   "file_extension": ".py",
   "mimetype": "text/x-python",
   "name": "python",
   "nbconvert_exporter": "python",
   "pygments_lexer": "ipython3",
   "version": "3.7.4"
  }
 },
 "nbformat": 4,
 "nbformat_minor": 2
}
