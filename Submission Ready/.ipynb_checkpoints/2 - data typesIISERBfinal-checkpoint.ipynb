{
 "cells": [
  {
   "cell_type": "markdown",
   "metadata": {},
   "source": [
    "## Devbrat Anuragi\n",
    "### 17078"
   ]
  },
  {
   "cell_type": "markdown",
   "metadata": {},
   "source": [
    "### Problem 1:\n",
    "\n",
    "Create a list and enter in the items `1`, `2`, `3`, `4`, `5`, `6` then reverse this list.\n",
    "\n",
    "- Use list slicing in your answer \n",
    "- Do not use any embedded functions in Python to reverse the list "
   ]
  },
  {
   "cell_type": "code",
   "execution_count": null,
   "metadata": {
    "ExecuteTime": {
     "end_time": "2019-10-28T03:41:09.276538Z",
     "start_time": "2019-10-28T03:41:09.274279Z"
    }
   },
   "outputs": [],
   "source": [
    "# Write your code here\n",
    "temp = [1,2,3,4,5,6]\n",
    "print(temp[::-1])\n"
   ]
  },
  {
   "cell_type": "markdown",
   "metadata": {},
   "source": [
    "### Problem 2:\n",
    "\n",
    "Using the same list,  use slicing to pull out the subset `[2,4]` ... Print your result.\n",
    "\n",
    "- Use list slicing in your answer "
   ]
  },
  {
   "cell_type": "code",
   "execution_count": 33,
   "metadata": {
    "ExecuteTime": {
     "end_time": "2019-10-28T03:41:46.702687Z",
     "start_time": "2019-10-28T03:41:46.700388Z"
    }
   },
   "outputs": [
    {
     "name": "stdout",
     "output_type": "stream",
     "text": [
      "[2, 4]\n"
     ]
    }
   ],
   "source": [
    "# Write your code here\n",
    "print(temp[1:4:2])"
   ]
  },
  {
   "cell_type": "markdown",
   "metadata": {},
   "source": [
    "### Problem 3:\n",
    "\n",
    "Create 2 lists: the first list with your first name and the second list with your last name. Combine the two lists to make a list that contains your entire name. "
   ]
  },
  {
   "cell_type": "code",
   "execution_count": 8,
   "metadata": {
    "ExecuteTime": {
     "end_time": "2019-10-28T03:42:20.710911Z",
     "start_time": "2019-10-28T03:42:20.708130Z"
    }
   },
   "outputs": [
    {
     "name": "stdout",
     "output_type": "stream",
     "text": [
      "['Devbrat', 'Anuragi']\n"
     ]
    }
   ],
   "source": [
    "# write your code here \n",
    "first_name = ['Devbrat']\n",
    "last_name = ['Anuragi']\n",
    "full_name = first_name+last_name\n",
    "print(full_name)\n"
   ]
  },
  {
   "cell_type": "markdown",
   "metadata": {},
   "source": [
    "### Problem 4:\n",
    "\n",
    "Create 2 lists: the first list with your first name and the second list with your last name. Combine the two lists to make a list that contains your entire name. Add your middle name to this combined list between your first and last name. If you don't have a middle name add `[\"m\", \"i\", \"d\", \"d\", \"l\", \"e\"]`."
   ]
  },
  {
   "cell_type": "code",
   "execution_count": 9,
   "metadata": {
    "ExecuteTime": {
     "end_time": "2019-10-28T03:42:45.261050Z",
     "start_time": "2019-10-28T03:42:45.258774Z"
    }
   },
   "outputs": [
    {
     "name": "stdout",
     "output_type": "stream",
     "text": [
      "['Devbrat', 'm', 'i', 'd', 'd', 'l', 'e', 'Anuragi']\n"
     ]
    }
   ],
   "source": [
    "# write your code here \n",
    "full_name[1:0] =[\"m\", \"i\", \"d\", \"d\", \"l\", \"e\"]\n",
    "#full_name.insert(1,[\"m\", \"i\", \"d\", \"d\", \"l\", \"e\"])\n",
    "print(full_name)\n",
    "\n"
   ]
  },
  {
   "cell_type": "markdown",
   "metadata": {},
   "source": [
    "### Problem 5\n",
    "\n",
    "Combine your first and last names using strings instead of lists like we did in problem 3. \n",
    "Notes:\n",
    "- Create the 2 strings in lower case and then use a built-in string method to capitalize the words (see [this link](https://docs.python.org/3/library/stdtypes.html#string-methods) to find the proper function to use)\n",
    "- Use string formatting to output your results"
   ]
  },
  {
   "cell_type": "code",
   "execution_count": 124,
   "metadata": {
    "ExecuteTime": {
     "end_time": "2019-10-28T03:43:23.616323Z",
     "start_time": "2019-10-28T03:43:23.613620Z"
    }
   },
   "outputs": [
    {
     "name": "stdout",
     "output_type": "stream",
     "text": [
      "Result : Devbrat Anuragi\n"
     ]
    }
   ],
   "source": [
    "# write your code here\n",
    "first_name = 'Devbrat '\n",
    "last_name = 'Anuragi'\n",
    "full_name = first_name.capitalize()+last_name.capitalize()\n",
    "print('Result : {}'.format(full_name))\n",
    "\n"
   ]
  },
  {
   "cell_type": "markdown",
   "metadata": {},
   "source": [
    "### Problem 6\n",
    "\n",
    "Replace `\"Brussels Sprouts\"` with your favorite food in the string `\"My favorite food is Brussels Sprouts\"`.\n",
    "\n",
    "Notes:\n",
    "- Use the `replace` commond string method"
   ]
  },
  {
   "cell_type": "code",
   "execution_count": 126,
   "metadata": {
    "ExecuteTime": {
     "end_time": "2019-10-28T03:44:02.152719Z",
     "start_time": "2019-10-28T03:44:02.150500Z"
    }
   },
   "outputs": [
    {
     "name": "stdout",
     "output_type": "stream",
     "text": [
      "My favorite food is Mom's food\n"
     ]
    }
   ],
   "source": [
    "# write your code here\n",
    "temp = 'My favorite food is Brussels Sprouts'\n",
    "temp = temp.replace('Brussels Sprouts','Mom\\'s food')\n",
    "print(temp)\n",
    "\n"
   ]
  },
  {
   "cell_type": "markdown",
   "metadata": {},
   "source": [
    "### Problem 7:\n",
    "\n",
    "Create a `range` that goes from `500` to `5000` by steps of `250`. Check if `7550` is in our range. \n",
    "\n",
    "Notes\n",
    "- Convert your range to a list and print it to see all elements of your range "
   ]
  },
  {
   "cell_type": "code",
   "execution_count": 146,
   "metadata": {
    "ExecuteTime": {
     "end_time": "2019-10-28T03:44:30.493660Z",
     "start_time": "2019-10-28T03:44:30.491517Z"
    }
   },
   "outputs": [
    {
     "name": "stdout",
     "output_type": "stream",
     "text": [
      "[500, 750, 1000, 1250, 1500, 1750, 2000, 2250, 2500, 2750, 3000, 3250, 3500, 3750, 4000, 4250, 4500, 4750]\n",
      "Is 7550 in the list  False\n"
     ]
    }
   ],
   "source": [
    "# Write your code here\n",
    "temp = list(range(500,5000,250))\n",
    "print(temp)\n",
    "print('Is 7550 in the list ',7550 in temp)\n"
   ]
  },
  {
   "cell_type": "markdown",
   "metadata": {},
   "source": [
    "### Problem 8\n",
    "\n",
    "Create a dictionary that contain key-value pairs corresponding to your city of birth, country of birth and current city. Add an element which contains your current country."
   ]
  },
  {
   "cell_type": "code",
   "execution_count": 193,
   "metadata": {
    "ExecuteTime": {
     "end_time": "2019-10-28T03:44:57.431731Z",
     "start_time": "2019-10-28T03:44:57.429545Z"
    }
   },
   "outputs": [
    {
     "name": "stdout",
     "output_type": "stream",
     "text": [
      "{'city': 'Jhansi', 'country': 'India', 'current_city': 'Shivpuri', 'current_country': 'India'}\n"
     ]
    }
   ],
   "source": [
    "# Write your code here\n",
    "temp = {'city':'Jhansi', 'country':'India','current_city':'Shivpuri'}\n",
    "temp['current_country'] = 'India'\n",
    "print(temp)\n",
    "\n"
   ]
  }
 ],
 "metadata": {
  "kernelspec": {
   "display_name": "Python 3",
   "language": "python",
   "name": "python3"
  },
  "language_info": {
   "codemirror_mode": {
    "name": "ipython",
    "version": 3
   },
   "file_extension": ".py",
   "mimetype": "text/x-python",
   "name": "python",
   "nbconvert_exporter": "python",
   "pygments_lexer": "ipython3",
   "version": "3.7.4"
  }
 },
 "nbformat": 4,
 "nbformat_minor": 2
}
