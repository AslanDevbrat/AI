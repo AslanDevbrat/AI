{
 "cells": [
  {
   "cell_type": "markdown",
   "metadata": {},
   "source": [
    "## Devbrat Anurgai\n",
    "### 17078"
   ]
  },
  {
   "cell_type": "markdown",
   "metadata": {},
   "source": [
    "### Problem 1: \n",
    "\n",
    "Write a program to take a sentence and return the number of letters in each word to a list.\n",
    "\n",
    "- Show how you can do this using a `map` + `lambda` function\n",
    "- Some hints:\n",
    "> 1. First, initialize the sentence as a variable then use an appropriate string method to split the sentence into words\n",
    "> 2. Then, calculate the length of each word and return this to a list "
   ]
  },
  {
   "cell_type": "code",
   "execution_count": 1,
   "metadata": {
    "ExecuteTime": {
     "end_time": "2019-10-28T03:29:47.917634Z",
     "start_time": "2019-10-28T03:29:47.913632Z"
    }
   },
   "outputs": [
    {
     "name": "stdout",
     "output_type": "stream",
     "text": [
      "[1, 2, 3, 4]\n"
     ]
    }
   ],
   "source": [
    "# Write your code here\n",
    "\n",
    "x = lambda sentence: sentence.split()\n",
    "\n",
    "y = lambda word: len(word)\n",
    "\n",
    "print(list(map(y,x(\"I am the best\"))))\n",
    "\n"
   ]
  },
  {
   "cell_type": "code",
   "execution_count": null,
   "metadata": {},
   "outputs": [],
   "source": []
  }
 ],
 "metadata": {
  "kernelspec": {
   "display_name": "Python 3",
   "language": "python",
   "name": "python3"
  },
  "language_info": {
   "codemirror_mode": {
    "name": "ipython",
    "version": 3
   },
   "file_extension": ".py",
   "mimetype": "text/x-python",
   "name": "python",
   "nbconvert_exporter": "python",
   "pygments_lexer": "ipython3",
   "version": "3.7.4"
  }
 },
 "nbformat": 4,
 "nbformat_minor": 2
}
