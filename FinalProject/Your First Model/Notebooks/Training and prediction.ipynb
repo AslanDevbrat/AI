{
 "cells": [
  {
   "cell_type": "code",
   "execution_count": 7,
   "metadata": {},
   "outputs": [],
   "source": [
    "from typing import Dict, Iterable, List\n",
    "\n",
    "from allennlp.data import DatasetReader, Instance\n",
    "from allennlp.data.fields import LabelField, TextField\n",
    "from allennlp.data.token_indexers import TokenIndexer, SingleIdTokenIndexer\n",
    "from allennlp.data.tokenizers import Token, Tokenizer, WhitespaceTokenizer\n",
    "from typing import Dict, Iterable, List\n",
    "\n",
    "import torch\n",
    "from allennlp.data import DatasetReader, Instance\n",
    "from allennlp.data import Vocabulary\n",
    "from allennlp.data.fields import LabelField, TextField\n",
    "from allennlp.data.token_indexers import TokenIndexer, SingleIdTokenIndexer\n",
    "from allennlp.data.tokenizers import Token, Tokenizer, WhitespaceTokenizer\n",
    "from allennlp.models import Model\n",
    "from allennlp.modules import TextFieldEmbedder, Seq2VecEncoder\n",
    "from allennlp.modules.text_field_embedders import BasicTextFieldEmbedder\n",
    "from allennlp.modules.token_embedders import Embedding\n",
    "from allennlp.modules.seq2vec_encoders import BagOfEmbeddingsEncoder\n",
    "from allennlp.nn import util\n",
    "from allennlp.training.metrics import CategoricalAccuracy\n"
   ]
  },
  {
   "cell_type": "code",
   "execution_count": 8,
   "metadata": {},
   "outputs": [
    {
     "data": {
      "application/vnd.jupyter.widget-view+json": {
       "model_id": "16d6434ac558419ca52c1aa1350482a0",
       "version_major": 2,
       "version_minor": 0
      },
      "text/plain": [
       "HBox(children=(HTML(value='reading instances'), FloatProgress(value=1.0, bar_style='info', layout=Layout(width…"
      ]
     },
     "metadata": {},
     "output_type": "display_data"
    },
    {
     "name": "stdout",
     "output_type": "stream",
     "text": [
      "Instance with fields:\n",
      " \t text: TextField of length 64 with text: \n",
      " \t\t[it, is, movies, like, these, that, make, a, jaded, movie, viewer, thankful, for, the, invention,\n",
      "\t\tof, the, timex, indiglo, watch, ., based, on, the, late, 1960's, television, show, by, the, same,\n",
      "\t\tname, ,, the, mod, squad, tells, the, tale, of, three, reformed, criminals, under, the, employ, of,\n",
      "\t\tthe, police, to, go, undercover, ., however, ,, things, go, wrong, as, evidence, gets, stolen, and,\n",
      "\t\tthey]\n",
      " \t\tand TokenIndexers : {'tokens': 'SingleIdTokenIndexer'} \n",
      " \t label: LabelField with label: neg in namespace: 'labels'.' \n",
      "\n",
      "Instance with fields:\n",
      " \t text: TextField of length 64 with text: \n",
      " \t\t[\", quest, for, camelot, \", is, warner, bros, ., ', first, feature-length, ,, fully-animated,\n",
      "\t\tattempt, to, steal, clout, from, disney's, cartoon, empire, ,, but, the, mouse, has, no, reason, to,\n",
      "\t\tbe, worried, ., the, only, other, recent, challenger, to, their, throne, was, last, fall's,\n",
      "\t\tpromising, ,, if, flawed, ,, 20th, century, fox, production, \", anastasia, ,, \", but, disney's, \",\n",
      "\t\thercules, ,, \", with]\n",
      " \t\tand TokenIndexers : {'tokens': 'SingleIdTokenIndexer'} \n",
      " \t label: LabelField with label: neg in namespace: 'labels'.' \n",
      "\n",
      "Instance with fields:\n",
      " \t text: TextField of length 64 with text: \n",
      " \t\t[synopsis, :, a, mentally, unstable, man, undergoing, psychotherapy, saves, a, boy, from, a,\n",
      "\t\tpotentially, fatal, accident, and, then, falls, in, love, with, the, boy's, mother, ,, a, fledgling,\n",
      "\t\trestauranteur, ., unsuccessfully, attempting, to, gain, the, woman's, favor, ,, he, takes, pictures,\n",
      "\t\tof, her, and, kills, a, number, of, people, in, his, way, ., comments, :, stalked, is, yet, another,\n",
      "\t\tin, a, seemingly, endless, string]\n",
      " \t\tand TokenIndexers : {'tokens': 'SingleIdTokenIndexer'} \n",
      " \t label: LabelField with label: neg in namespace: 'labels'.' \n",
      "\n",
      "Instance with fields:\n",
      " \t text: TextField of length 64 with text: \n",
      " \t\t[capsule, :, in, 2176, on, the, planet, mars, police, taking, into, custody, an, accused, murderer,\n",
      "\t\tface, the, title, menace, ., there, is, a, lot, of, fighting, and, not, a, whole, lot, of, story,\n",
      "\t\totherwise, ., john, carpenter, reprises, so, many, ideas, from, his, previous, films, ,, especially,\n",
      "\t\tassault, on, precinct, 13, ,, that, the, new, film, comes, off, as, his, homage, to, himself, .]\n",
      " \t\tand TokenIndexers : {'tokens': 'SingleIdTokenIndexer'} \n",
      " \t label: LabelField with label: neg in namespace: 'labels'.' \n",
      "\n",
      "Instance with fields:\n",
      " \t text: TextField of length 64 with text: \n",
      " \t\t[so, ask, yourself, what, \", 8mm, \", (, \", eight, millimeter, \", ), is, really, all, about, ., is,\n",
      "\t\tit, about, a, wholesome, surveillance, man, who, loses, sight, of, his, values, after, becoming,\n",
      "\t\tenmeshed, in, the, seedy, ,, sleazy, underworld, of, hardcore, pornography, ?, is, it, about, the,\n",
      "\t\tbusiness, itself, ,, how, ,, bubbling, just, beneath, the, surface, of, big-town, americana, ,,\n",
      "\t\tthere's, a]\n",
      " \t\tand TokenIndexers : {'tokens': 'SingleIdTokenIndexer'} \n",
      " \t label: LabelField with label: neg in namespace: 'labels'.' \n",
      "\n",
      "Instance with fields:\n",
      " \t text: TextField of length 64 with text: \n",
      " \t\t[that's, exactly, how, long, the, movie, felt, to, me, ., there, weren't, even, nine, laughs, in,\n",
      "\t\tnine, months, ., it's, a, terrible, mess, of, a, movie, starring, a, terrible, mess, of, a, man, ,,\n",
      "\t\tmr, ., hugh, grant, ,, a, huge, dork, ., it's, not, the, whole, oral-sex/prostitution, thing, (,\n",
      "\t\treferring, to, grant, ,, not, me, ), that, bugs, me, ,, it's, the, fact]\n",
      " \t\tand TokenIndexers : {'tokens': 'SingleIdTokenIndexer'} \n",
      " \t label: LabelField with label: neg in namespace: 'labels'.' \n",
      "\n",
      "Instance with fields:\n",
      " \t text: TextField of length 64 with text: \n",
      " \t\t[call, it, a, road, trip, for, the, walking, wounded, ., stellan, skarsg, ?, rd, plays, such, a,\n",
      "\t\tconvincingly, zombified, drunken, loser, that, it's, difficult, to, spend, nearly, two, hours, of,\n",
      "\t\tscreen, time, in, his, smelly, ,, boozed-out, presence, ., yet, this, ever-reliable, swedish, actor,\n",
      "\t\tadds, depth, and, significance, to, the, otherwise, plodding, and, forgettable, aberdeen, ,, a,\n",
      "\t\tsentimental, and, painfully, mundane, european, drama, .]\n",
      " \t\tand TokenIndexers : {'tokens': 'SingleIdTokenIndexer'} \n",
      " \t label: LabelField with label: neg in namespace: 'labels'.' \n",
      "\n",
      "Instance with fields:\n",
      " \t text: TextField of length 64 with text: \n",
      " \t\t[plot, :, a, young, french, boy, sees, his, parents, killed, before, his, eyes, by, tim, roth, ,,\n",
      "\t\toops, ., ., ., i, mean, ,, an, evil, man, ., he, vows, revenge, on, that, man, and, is, taught, the,\n",
      "\t\tways, of, the, musketeer, by, some, old, dude, who, used, to, be, one, himself, ?, anyway, ,,\n",
      "\t\tfourteen, years, go, by, and, ., ., ., arrgh]\n",
      " \t\tand TokenIndexers : {'tokens': 'SingleIdTokenIndexer'} \n",
      " \t label: LabelField with label: neg in namespace: 'labels'.' \n",
      "\n",
      "Instance with fields:\n",
      " \t text: TextField of length 64 with text: \n",
      " \t\t[and, now, the, high-flying, hong, kong, style, of, filmmaking, has, made, its, way, down, to, the,\n",
      "\t\tclassics, ,, and, it, isn't, pretty, ., this, time, out, the, nod, to, asia, goes, by, way, of,\n",
      "\t\tfrance, in, the, excruciating, bland, and, lukewarm, production, of, the, musketeer, ,, a, version,\n",
      "\t\tof, dumas's, the, three, musketeers, ., by, bringing, in, popular, asian, actor/stunt, coordinator,\n",
      "\t\txing, xing, xiong]\n",
      " \t\tand TokenIndexers : {'tokens': 'SingleIdTokenIndexer'} \n",
      " \t label: LabelField with label: neg in namespace: 'labels'.' \n",
      "\n",
      "Instance with fields:\n",
      " \t text: TextField of length 64 with text: \n",
      " \t\t[a, movie, like, mortal, kombat, :, annihilation, works, (, and, must, be, reviewed, on, ),\n",
      "\t\tmultiple, levels, ., first, ,, there's, the, rampant, usage, of, randian, subtext, that, pervades,\n",
      "\t\tthe, entire, movie, ., but, occasionaly, ,, almost, as, if, making, an, ironic, ,, self-\n",
      "\t\tdepreciating, remark, ,, the, movie, tosses, in, clearly, marxist, imagery, ., no, no, ., ., .,\n",
      "\t\tjust, kidding, ., had, you]\n",
      " \t\tand TokenIndexers : {'tokens': 'SingleIdTokenIndexer'} \n",
      " \t label: LabelField with label: neg in namespace: 'labels'.' \n",
      "\n"
     ]
    },
    {
     "name": "stderr",
     "output_type": "stream",
     "text": [
      "\n"
     ]
    }
   ],
   "source": [
    "class ClassificationTsvReader(DatasetReader):\n",
    "    def __init__(self,\n",
    "                 lazy: bool = False,\n",
    "                 tokenizer: Tokenizer = None,\n",
    "                 token_indexers: Dict[str, TokenIndexer] = None,\n",
    "                 max_tokens: int = None):\n",
    "        super().__init__(lazy)\n",
    "        self.tokenizer = tokenizer or WhitespaceTokenizer()\n",
    "        self.token_indexers = token_indexers or {'tokens': SingleIdTokenIndexer()}\n",
    "        self.max_tokens = max_tokens\n",
    "\n",
    "    def _read(self, file_path: str) -> Iterable[Instance]:\n",
    "        with open(file_path, 'r') as lines:\n",
    "            for line in lines:\n",
    "                text, sentiment = line.strip().split('\\t')\n",
    "                tokens = self.tokenizer.tokenize(text)\n",
    "                if self.max_tokens:\n",
    "                    tokens = tokens[:self.max_tokens]\n",
    "                text_field = TextField(tokens, self.token_indexers)\n",
    "                label_field = LabelField(sentiment)\n",
    "                fields = {'text': text_field, 'label': label_field}\n",
    "                yield Instance(fields)\n",
    "\n",
    "dataset_reader = ClassificationTsvReader(max_tokens=64)\n",
    "instances = dataset_reader.read(\"E:/7th sem/AI/AI/FinalProject/Your First Model/Dataset/train.tsv\")\n",
    "\n",
    "for instance in instances[:10]:\n",
    "    print(instance)"
   ]
  },
  {
   "cell_type": "code",
   "execution_count": 10,
   "metadata": {},
   "outputs": [
    {
     "name": "stdout",
     "output_type": "stream",
     "text": [
      "Reading data\n"
     ]
    },
    {
     "data": {
      "application/vnd.jupyter.widget-view+json": {
       "model_id": "e5ebb804cb2947e49d60592c632149d6",
       "version_major": 2,
       "version_minor": 0
      },
      "text/plain": [
       "HBox(children=(HTML(value='reading instances'), FloatProgress(value=1.0, bar_style='info', layout=Layout(width…"
      ]
     },
     "metadata": {},
     "output_type": "display_data"
    },
    {
     "name": "stdout",
     "output_type": "stream",
     "text": [
      "Building the vocabulary\n"
     ]
    },
    {
     "name": "stderr",
     "output_type": "stream",
     "text": [
      "\n"
     ]
    },
    {
     "data": {
      "application/vnd.jupyter.widget-view+json": {
       "model_id": "fe3d4d6029664e549b6d765507067b38",
       "version_major": 2,
       "version_minor": 0
      },
      "text/plain": [
       "HBox(children=(HTML(value='building vocab'), FloatProgress(value=0.0, max=1600.0), HTML(value='')))"
      ]
     },
     "metadata": {},
     "output_type": "display_data"
    },
    {
     "name": "stderr",
     "output_type": "stream",
     "text": [
      "\n"
     ]
    },
    {
     "name": "stdout",
     "output_type": "stream",
     "text": [
      "Building the model\n"
     ]
    },
    {
     "name": "stderr",
     "output_type": "stream",
     "text": [
      "Encountered the loss key in the model's return dictionary which couldn't be split by the batch size. Key will be ignored.\n"
     ]
    },
    {
     "name": "stdout",
     "output_type": "stream",
     "text": [
      "[{'probs': array([0.59406114, 0.40593886], dtype=float32)}, {'probs': array([0.6394899, 0.3605101], dtype=float32)}, {'probs': array([0.59554005, 0.40445998], dtype=float32)}, {'probs': array([0.5760325 , 0.42396745], dtype=float32)}]\n"
     ]
    }
   ],
   "source": [
    "class SimpleClassifier(Model):\n",
    "    def __init__(self,\n",
    "                 vocab: Vocabulary,\n",
    "                 embedder: TextFieldEmbedder,\n",
    "                 encoder: Seq2VecEncoder):\n",
    "        super().__init__(vocab)\n",
    "        self.embedder = embedder\n",
    "        self.encoder = encoder\n",
    "        num_labels = vocab.get_vocab_size(\"labels\")\n",
    "        self.classifier = torch.nn.Linear(encoder.get_output_dim(), num_labels)\n",
    "\n",
    "    def forward(self,\n",
    "                text: Dict[str, torch.Tensor],\n",
    "                label: torch.Tensor) -> Dict[str, torch.Tensor]:\n",
    "        # Shape: (batch_size, num_tokens, embedding_dim)\n",
    "        embedded_text = self.embedder(text)\n",
    "        # Shape: (batch_size, num_tokens)\n",
    "        mask = util.get_text_field_mask(text)\n",
    "        # Shape: (batch_size, encoding_dim)\n",
    "        encoded_text = self.encoder(embedded_text, mask)\n",
    "        # Shape: (batch_size, num_labels)\n",
    "        logits = self.classifier(encoded_text)\n",
    "        # Shape: (batch_size, num_labels)\n",
    "        probs = torch.nn.functional.softmax(logits, dim=-1)\n",
    "        # Shape: (1,)\n",
    "        loss = torch.nn.functional.cross_entropy(logits, label)\n",
    "        return {'loss': loss, 'probs': probs}\n",
    "\n",
    "def run_training_loop():\n",
    "    dataset_reader = ClassificationTsvReader(max_tokens=64)\n",
    "    print(\"Reading data\")\n",
    "    instances = dataset_reader.read(\"E:/7th sem/AI/AI/FinalProject/Your First Model/Dataset/train.tsv\")\n",
    "\n",
    "    vocab = build_vocab(instances)\n",
    "    model = build_model(vocab)\n",
    "\n",
    "    outputs = model.forward_on_instances(instances[:4])\n",
    "    print(outputs)\n",
    "\n",
    "def build_vocab(instances: Iterable[Instance]) -> Vocabulary:\n",
    "    print(\"Building the vocabulary\")\n",
    "    return Vocabulary.from_instances(instances)\n",
    "\n",
    "def build_model(vocab: Vocabulary) -> Model:\n",
    "    print(\"Building the model\")\n",
    "    vocab_size = vocab.get_vocab_size(\"tokens\")\n",
    "    embedder = BasicTextFieldEmbedder(\n",
    "        {\"tokens\": Embedding(embedding_dim=10, num_embeddings=vocab_size)})\n",
    "    encoder = BagOfEmbeddingsEncoder(embedding_dim=10)\n",
    "    return SimpleClassifier(vocab, embedder, encoder)\n",
    "\n",
    "run_training_loop()"
   ]
  },
  {
   "cell_type": "code",
   "execution_count": null,
   "metadata": {},
   "outputs": [],
   "source": []
  }
 ],
 "metadata": {
  "kernelspec": {
   "display_name": "Python 3",
   "language": "python",
   "name": "python3"
  },
  "language_info": {
   "codemirror_mode": {
    "name": "ipython",
    "version": 3
   },
   "file_extension": ".py",
   "mimetype": "text/x-python",
   "name": "python",
   "nbconvert_exporter": "python",
   "pygments_lexer": "ipython3",
   "version": "3.7.9"
  }
 },
 "nbformat": 4,
 "nbformat_minor": 4
}
