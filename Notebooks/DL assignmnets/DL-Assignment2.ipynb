{
 "cells": [
  {
   "cell_type": "code",
   "execution_count": 10,
   "metadata": {},
   "outputs": [],
   "source": [
    "# Imports and formatting the data\n",
    "# See previous lab if this is confusing\n",
    "from matplotlib import pyplot as plt\n",
    "from tensorflow.keras.datasets import mnist\n",
    "from tensorflow.keras.models import Sequential\n",
    "from tensorflow.keras.layers import Dense\n",
    "from tensorflow.keras.utils import to_categorical\n",
    "# Imports and formatting the data\n",
    "# See previous lab if this is confusing\n",
    "from matplotlib import pyplot as plt\n",
    "from tensorflow.keras.layers import Dense, Dropout\n",
    "from tensorflow.keras.datasets import mnist\n",
    "from tensorflow.keras.models import Sequential\n",
    "from tensorflow.keras.layers import Dense\n",
    "from tensorflow.keras.utils import to_categorical\n",
    "from tensorflow.keras.callbacks import EarlyStopping\n",
    "\n",
    "\n",
    "num_classes = 10 \n",
    "image_size = 784\n",
    "\n",
    "(training_images, training_labels), (test_images, test_labels) = mnist.load_data()\n",
    "training_data = training_images.reshape(training_images.shape[0], image_size) \n",
    "test_data = test_images.reshape(test_images.shape[0], image_size)\n",
    "\n",
    "training_labels = to_categorical(training_labels, num_classes)\n",
    "test_labels = to_categorical(test_labels, num_classes)\n",
    "\n",
    "# A helpful function we'll be using all over the place to plot training information:\n",
    "def plot_training_history(history, model):\n",
    "    plt.plot(history.history['accuracy'])\n",
    "    plt.plot(history.history['val_accuracy'])\n",
    "    plt.title('model accuracy')\n",
    "    plt.ylabel('accuracy')\n",
    "    plt.xlabel('epoch')\n",
    "    plt.legend(['training', 'validation'], loc='best')\n",
    "\n",
    "    plt.show()\n",
    "\n",
    "    plt.plot(history.history['loss'])\n",
    "    plt.plot(history.history['val_loss'])\n",
    "    plt.title('model loss')\n",
    "    plt.ylabel('loss')\n",
    "    plt.xlabel('epoch')\n",
    "    plt.legend(['training', 'validation'], loc='best')\n",
    "\n",
    "    plt.show()\n",
    "    \n",
    "    loss, accuracy  = model.evaluate(test_data, test_labels, verbose=False)\n",
    "    print(f'Test loss: {loss:.3}')\n",
    "    print(f'Test accuracy: {accuracy:.3}')"
   ]
  },
  {
   "cell_type": "code",
   "execution_count": 14,
   "metadata": {},
   "outputs": [
    {
     "name": "stdout",
     "output_type": "stream",
     "text": [
      "Model: \"sequential_9\"\n",
      "_________________________________________________________________\n",
      "Layer (type)                 Output Shape              Param #   \n",
      "=================================================================\n",
      "dense_42 (Dense)             (None, 512)               401920    \n",
      "_________________________________________________________________\n",
      "dense_43 (Dense)             (None, 256)               131328    \n",
      "_________________________________________________________________\n",
      "dropout_12 (Dropout)         (None, 256)               0         \n",
      "_________________________________________________________________\n",
      "dense_44 (Dense)             (None, 128)               32896     \n",
      "_________________________________________________________________\n",
      "dropout_13 (Dropout)         (None, 128)               0         \n",
      "_________________________________________________________________\n",
      "dense_45 (Dense)             (None, 64)                8256      \n",
      "_________________________________________________________________\n",
      "dense_46 (Dense)             (None, 10)                650       \n",
      "=================================================================\n",
      "Total params: 575,050\n",
      "Trainable params: 575,050\n",
      "Non-trainable params: 0\n",
      "_________________________________________________________________\n",
      "Train on 48000 samples, validate on 12000 samples\n",
      "Epoch 1/50\n",
      "48000/48000 [==============================] - 8s 160us/sample - loss: 2.9830 - accuracy: 0.7573 - val_loss: 0.3435 - val_accuracy: 0.9175\n",
      "Epoch 2/50\n",
      "48000/48000 [==============================] - 15s 315us/sample - loss: 0.4858 - accuracy: 0.8857 - val_loss: 0.2246 - val_accuracy: 0.9387\n",
      "Epoch 3/50\n",
      "48000/48000 [==============================] - 11s 231us/sample - loss: 0.3112 - accuracy: 0.9199 - val_loss: 0.1916 - val_accuracy: 0.9511\n",
      "Epoch 4/50\n",
      "48000/48000 [==============================] - 11s 239us/sample - loss: 0.2391 - accuracy: 0.9366 - val_loss: 0.1661 - val_accuracy: 0.9602\n",
      "Epoch 5/50\n",
      "48000/48000 [==============================] - 10s 215us/sample - loss: 0.1879 - accuracy: 0.9493 - val_loss: 0.1591 - val_accuracy: 0.9608\n",
      "Epoch 6/50\n",
      "48000/48000 [==============================] - 8s 157us/sample - loss: 0.1635 - accuracy: 0.9561 - val_loss: 0.1435 - val_accuracy: 0.9640\n",
      "Epoch 7/50\n",
      "48000/48000 [==============================] - 9s 185us/sample - loss: 0.1419 - accuracy: 0.9611 - val_loss: 0.1328 - val_accuracy: 0.9651\n",
      "Epoch 8/50\n",
      "48000/48000 [==============================] - 10s 199us/sample - loss: 0.1189 - accuracy: 0.9669 - val_loss: 0.1291 - val_accuracy: 0.9679\n",
      "Epoch 9/50\n",
      "48000/48000 [==============================] - 8s 165us/sample - loss: 0.1105 - accuracy: 0.9691 - val_loss: 0.1187 - val_accuracy: 0.9662\n",
      "Epoch 10/50\n",
      "48000/48000 [==============================] - 8s 167us/sample - loss: 0.0972 - accuracy: 0.9735 - val_loss: 0.1103 - val_accuracy: 0.9719\n",
      "Epoch 11/50\n",
      "48000/48000 [==============================] - 9s 179us/sample - loss: 0.0884 - accuracy: 0.9748 - val_loss: 0.1157 - val_accuracy: 0.9713\n",
      "Epoch 12/50\n",
      "48000/48000 [==============================] - 7s 138us/sample - loss: 0.0844 - accuracy: 0.9770 - val_loss: 0.1104 - val_accuracy: 0.9722\n",
      "Epoch 13/50\n",
      "48000/48000 [==============================] - 7s 146us/sample - loss: 0.0797 - accuracy: 0.9784 - val_loss: 0.1101 - val_accuracy: 0.9732\n",
      "Epoch 14/50\n",
      "48000/48000 [==============================] - 7s 153us/sample - loss: 0.0717 - accuracy: 0.9794 - val_loss: 0.1192 - val_accuracy: 0.9729\n",
      "Epoch 15/50\n",
      "48000/48000 [==============================] - 8s 169us/sample - loss: 0.0660 - accuracy: 0.9814 - val_loss: 0.1139 - val_accuracy: 0.9721\n",
      "Epoch 16/50\n",
      "48000/48000 [==============================] - 7s 153us/sample - loss: 0.0593 - accuracy: 0.9829 - val_loss: 0.1110 - val_accuracy: 0.9716\n",
      "Epoch 17/50\n",
      "48000/48000 [==============================] - 7s 138us/sample - loss: 0.0582 - accuracy: 0.9831 - val_loss: 0.1111 - val_accuracy: 0.9745\n",
      "Epoch 18/50\n",
      "48000/48000 [==============================] - 8s 160us/sample - loss: 0.0568 - accuracy: 0.9844 - val_loss: 0.1121 - val_accuracy: 0.9743\n"
     ]
    },
    {
     "data": {
      "image/png": "[encoded data removed]",
      "text/plain": [
       "<Figure size 432x288 with 1 Axes>"
      ]
     },
     "metadata": {
      "needs_background": "light"
     },
     "output_type": "display_data"
    },
    {
     "data": {
      "image/png": "[encoded data removed]",
      "text/plain": [
       "<Figure size 432x288 with 1 Axes>"
      ]
     },
     "metadata": {
      "needs_background": "light"
     },
     "output_type": "display_data"
    },
    {
     "name": "stdout",
     "output_type": "stream",
     "text": [
      "Test loss: 0.1\n",
      "Test accuracy: 0.975\n"
     ]
    }
   ],
   "source": [
    "early_stopper = EarlyStopping(monitor='val_loss', patience=5, restore_best_weights=True)\n",
    "\n",
    "model = Sequential()\n",
    "\n",
    "model.add(Dense(units=512, activation='selu', input_shape=(image_size,)))\n",
    "model.add(Dense(units=256, activation='selu'))\n",
    "model.add(Dropout(rate=0.3))\n",
    "model.add(Dense(units=128, activation='selu'))\n",
    "model.add(Dropout(rate=0.2))\n",
    "model.add(Dense(units=64, activation='selu'))\n",
    "model.add(Dense(units=num_classes, activation='softmax'))\n",
    "model.summary()\n",
    "\n",
    "model.compile(optimizer=\"nadam\", loss='categorical_crossentropy', metrics=['accuracy'])\n",
    "history = model.fit(training_data, training_labels, batch_size=128, epochs=50, verbose=True, validation_split=.2,callbacks=[early_stopper])\n",
    "plot_training_history(history, model)\n"
   ]
  },
  {
   "cell_type": "markdown",
   "metadata": {},
   "source": [
    "I don't wanna show off but i got accuray greater than 97% in my first run!!\n",
    "\n",
    "I used NAdam Optimizer, Catagorical cross entropy loss function, two dropout layer with 0.3 and 0.2 probability, and i used selu activatin function"
   ]
  }
 ],
 "metadata": {
  "kernelspec": {
   "display_name": "Python 3",
   "language": "python",
   "name": "python3"
  },
  "language_info": {
   "codemirror_mode": {
    "name": "ipython",
    "version": 3
   },
   "file_extension": ".py",
   "mimetype": "text/x-python",
   "name": "python",
   "nbconvert_exporter": "python",
   "pygments_lexer": "ipython3",
   "version": "3.7.9"
  }
 },
 "nbformat": 4,
 "nbformat_minor": 4
}
