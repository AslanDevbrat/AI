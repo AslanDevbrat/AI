{
 "cells": [
  {
   "cell_type": "markdown",
   "metadata": {},
   "source": [
    "# Activation Functions\n",
    "\n",
    "Each node in a neural net has an activation function. While it is theoretically possible for each individual node to have a unique activation function, it's quite uncommon. Typically, every node in any particular layer uses the same activation function. \n",
    "\n",
    "Consider this image of a single node:\n",
    "\n",
    "![](img/networkZoomMore.png)\n",
    "\n",
    "In this case, the \"activation function\" is the sigmoid function. That function looks like this:"
   ]
  },
  {
   "cell_type": "code",
   "execution_count": 1,
   "metadata": {},
   "outputs": [
    {
     "data": {
      "image/png": "[encoded data removed]",
      "text/plain": [
       "<Figure size 432x288 with 1 Axes>"
      ]
     },
     "metadata": {
      "needs_background": "light"
     },
     "output_type": "display_data"
    }
   ],
   "source": [
    "import matplotlib.pyplot as plt\n",
    "import numpy as np\n",
    "\n",
    "# np.e is Euler's constant, the base of the natural logarithm \n",
    "def sigmoid(x):\n",
    "    return (1 / (1 + np.exp(-x)))\n",
    "\n",
    "# Construct a range to plot\n",
    "r = np.linspace(-10, 10, 100)\n",
    "plt.plot(r, sigmoid(r), 'b')\n",
    "plt.show()"
   ]
  },
  {
   "cell_type": "markdown",
   "metadata": {},
   "source": [
    "This function is a common choice, and is the O.G. activation function. It has some important and nice properties:\n",
    "\n",
    "* is differentiable, which is very important because of how gradient descent and backpropogation work.\n",
    "* Is bounded between 0 and 1.\n",
    "\n",
    "It also has some problems, in particlar one of the reasons sigmoid is falling out of favor is called the vanishing gradient problem. Consider this plot with sigmoid and it's derivative:"
   ]
  },
  {
   "cell_type": "code",
   "execution_count": 2,
   "metadata": {},
   "outputs": [
    {
     "data": {
      "image/png": "[encoded data removed]",
      "text/plain": [
       "<Figure size 432x288 with 1 Axes>"
      ]
     },
     "metadata": {
      "needs_background": "light"
     },
     "output_type": "display_data"
    }
   ],
   "source": [
    "# Yes, it's freaky that the derivative involves the function itself. \n",
    "# Calculus is cool, but we're not going to talk about that today!\n",
    "def sigmoid_prime(x):\n",
    "    return sigmoid(x) * (1 - sigmoid(x))\n",
    "\n",
    "r = np.linspace(-10, 10, 100)\n",
    "plt.plot(r, sigmoid(r), 'b')\n",
    "plt.plot(r, sigmoid_prime(r), 'r')\n",
    "plt.show()"
   ]
  },
  {
   "cell_type": "markdown",
   "metadata": {},
   "source": [
    "Notice that at both ends of the range the derivative (red line) approaches 0. In terms of tuning neural networks, this means that the corrections applied based on the loss function can become very small—causing the node to effectively stop learning. This is especially true of neural networks with several layers, because the vanishing gradient problem stacks across the layers. \n",
    "\n",
    "Let's examine this problem in context, this code should look familiar from previous exercises:"
   ]
  },
  {
   "cell_type": "code",
   "execution_count": 3,
   "metadata": {},
   "outputs": [],
   "source": [
    "# Imports and formatting the data\n",
    "# See previous lab if this is confusing\n",
    "from matplotlib import pyplot as plt\n",
    "from tensorflow.keras.datasets import mnist\n",
    "from tensorflow.keras.models import Sequential\n",
    "from tensorflow.keras.layers import Dense\n",
    "from tensorflow.keras.utils import to_categorical\n",
    "\n",
    "num_classes = 10 \n",
    "image_size = 784\n",
    "\n",
    "(training_images, training_labels), (test_images, test_labels) = mnist.load_data()\n",
    "training_data = training_images.reshape(training_images.shape[0], image_size) \n",
    "test_data = test_images.reshape(test_images.shape[0], image_size)\n",
    "\n",
    "training_labels = to_categorical(training_labels, num_classes)\n",
    "test_labels = to_categorical(test_labels, num_classes)\n",
    "\n",
    "# A helpful function we'll be using all over the place to plot training information:\n",
    "def plot_training_history(history, model):\n",
    "    plt.plot(history.history['accuracy'])\n",
    "    plt.plot(history.history['val_accuracy'])\n",
    "    plt.title('model accuracy')\n",
    "    plt.ylabel('accuracy')\n",
    "    plt.xlabel('epoch')\n",
    "    plt.legend(['training', 'validation'], loc='best')\n",
    "\n",
    "    plt.show()\n",
    "\n",
    "    plt.plot(history.history['loss'])\n",
    "    plt.plot(history.history['val_loss'])\n",
    "    plt.title('model loss')\n",
    "    plt.ylabel('loss')\n",
    "    plt.xlabel('epoch')\n",
    "    plt.legend(['training', 'validation'], loc='best')\n",
    "\n",
    "    plt.show()\n",
    "    \n",
    "    loss, accuracy  = model.evaluate(test_data, test_labels, verbose=False)\n",
    "    print(f'Test loss: {loss:.3}')\n",
    "    print(f'Test accuracy: {accuracy:.3}')"
   ]
  },
  {
   "cell_type": "code",
   "execution_count": 4,
   "metadata": {},
   "outputs": [
    {
     "name": "stdout",
     "output_type": "stream",
     "text": [
      "Model: \"sequential\"\n",
      "_________________________________________________________________\n",
      "Layer (type)                 Output Shape              Param #   \n",
      "=================================================================\n",
      "dense (Dense)                (None, 10)                7850      \n",
      "_________________________________________________________________\n",
      "dense_1 (Dense)              (None, 10)                110       \n",
      "_________________________________________________________________\n",
      "dense_2 (Dense)              (None, 10)                110       \n",
      "_________________________________________________________________\n",
      "dense_3 (Dense)              (None, 10)                110       \n",
      "_________________________________________________________________\n",
      "dense_4 (Dense)              (None, 10)                110       \n",
      "_________________________________________________________________\n",
      "dense_5 (Dense)              (None, 10)                110       \n",
      "_________________________________________________________________\n",
      "dense_6 (Dense)              (None, 10)                110       \n",
      "_________________________________________________________________\n",
      "dense_7 (Dense)              (None, 10)                110       \n",
      "_________________________________________________________________\n",
      "dense_8 (Dense)              (None, 10)                110       \n",
      "_________________________________________________________________\n",
      "dense_9 (Dense)              (None, 10)                110       \n",
      "_________________________________________________________________\n",
      "dense_10 (Dense)             (None, 10)                110       \n",
      "_________________________________________________________________\n",
      "dense_11 (Dense)             (None, 10)                110       \n",
      "=================================================================\n",
      "Total params: 9,060\n",
      "Trainable params: 9,060\n",
      "Non-trainable params: 0\n",
      "_________________________________________________________________\n"
     ]
    },
    {
     "data": {
      "image/png": "[encoded data removed]",
      "text/plain": [
       "<Figure size 432x288 with 1 Axes>"
      ]
     },
     "metadata": {
      "needs_background": "light"
     },
     "output_type": "display_data"
    },
    {
     "data": {
      "image/png": "[encoded data removed]",
      "text/plain": [
       "<Figure size 432x288 with 1 Axes>"
      ]
     },
     "metadata": {
      "needs_background": "light"
     },
     "output_type": "display_data"
    },
    {
     "name": "stdout",
     "output_type": "stream",
     "text": [
      "Test loss: 2.3\n",
      "Test accuracy: 0.113\n"
     ]
    }
   ],
   "source": [
    "model = Sequential()\n",
    "model.add(Dense(units=10, activation='sigmoid', input_shape=(image_size,)))\n",
    "\n",
    "for _ in range(10):\n",
    "    model.add(Dense(units=10, activation='sigmoid'))\n",
    "\n",
    "model.add(Dense(units=num_classes, activation='softmax'))\n",
    "model.compile(optimizer=\"sgd\", loss='categorical_crossentropy', metrics=['accuracy'])\n",
    "model.summary()\n",
    "\n",
    "history = model.fit(training_data, training_labels, batch_size=128, epochs=20, verbose=False, validation_split=.1)\n",
    "plot_training_history(history, model)"
   ]
  },
  {
   "cell_type": "markdown",
   "metadata": {},
   "source": [
    "Notice that the network didn't REALLY learn anything after the first epoch... we could guess that the network is too complex, but consider this:"
   ]
  },
  {
   "cell_type": "code",
   "execution_count": null,
   "metadata": {},
   "outputs": [],
   "source": [
    "#paste the above cell here and replace sigmoid with relu\n",
    "# and show the test loss and test accuracy"
   ]
  },
  {
   "cell_type": "markdown",
   "metadata": {},
   "source": [
    "These results are not great, because this architecture isn't great, but changing the activation function to the Rectified Linear Unit (often called ReLU) we dramatically improved the performance of the network. This is the vanishing gradient problem rearing it's head.\n",
    "\n",
    "Why doesn't ReLU suffer from the vanishing gradient? Let's define and plot it, the function is almost hilariously simple:"
   ]
  },
  {
   "cell_type": "code",
   "execution_count": null,
   "metadata": {},
   "outputs": [],
   "source": [
    "# This function is hard to read because we're applying it to\n",
    "# numpy arrays, but for each item in x we return max(0, x[i])\n",
    "def relu(x):\n",
    "    return np.maximum(x, np.zeros(len(x)))\n",
    "\n",
    "# This function is non-continuous, but the derivative can be \n",
    "# expressed as a very simple discrete function that works for\n",
    "# our purpose, if x[i] > 0 return 1, else return 0:\n",
    "def relu_prime(x):\n",
    "    return np.array([1 if num > 0 else 0 for num in x])\n",
    "\n",
    "# Construct a range to plot\n",
    "r = np.linspace(-10, 10, 100)\n",
    "plt.plot(r, relu(r), 'b')\n",
    "plt.plot(r, relu_prime(r), 'r')\n",
    "plt.show()"
   ]
  },
  {
   "cell_type": "markdown",
   "metadata": {},
   "source": [
    "ReLU still has a kind of vanishing gradient problem, in fact the gradient can simply be 0, and once that happens the weights attached to that node will no longer be updated at all! \n",
    "\n",
    "The simplicity of this function servers as an important reminder about neural networks and machine learning in general: fundamentally we are combining a lot of very simple things, and repeating a simple process MANY MANY times. The result is complex, but the procecss itself is built of simple parts. \n",
    "\n",
    "With that in mind, brilliant machine learning specialists came up with a simple solution to ReLU's problems. They invented a function called \"Leaky ReLU\":"
   ]
  },
  {
   "cell_type": "code",
   "execution_count": null,
   "metadata": {},
   "outputs": [],
   "source": [
    "# For values greater than 0, leaky ReLU is the same as ReLU.\n",
    "# For values less than 0, we return x[i] * 0.01 instead of just 0\n",
    "# Now the gradient cannot die, because the line always has a slope.\n",
    "def leaky_relu(x):\n",
    "    return np.array([num if num > 0 else num * .01 for num in x])\n",
    "\n",
    "def leaky_relu_prime(x):\n",
    "    return np.array([1 if num > 0 else .01 for num in x])\n",
    "\n",
    "r = np.linspace(-10, 10, 100)\n",
    "plt.plot(r, leaky_relu(r), 'b')\n",
    "plt.plot(r, leaky_relu_prime(r), 'r')\n",
    "plt.show()"
   ]
  },
  {
   "cell_type": "markdown",
   "metadata": {},
   "source": [
    "Leaky is not strictly better, and it can sometimes be hard to know when it will be better or not. As with many neural network tasks, the best way to prove something is empirically. Lets see if Leaky ReLU improves our 10 layer network"
   ]
  },
  {
   "cell_type": "code",
   "execution_count": null,
   "metadata": {},
   "outputs": [],
   "source": [
    "model = Sequential()\n",
    "model.add(Dense(units=10, activation='relu', input_shape=(image_size,)))\n",
    "\n",
    "for _ in range(10):\n",
    "    model.add(Dense(units=10, activation='relu'))\n",
    "\n",
    "model.add(Dense(units=num_classes, activation='softmax'))\n",
    "model.compile(optimizer=\"sgd\", loss='categorical_crossentropy', metrics=['accuracy'])\n",
    "model.summary()\n",
    "\n",
    "history = model.fit(training_data, training_labels, batch_size=128, epochs=20, verbose=False, validation_split=.1)\n",
    "plot_training_history(history, model)"
   ]
  },
  {
   "cell_type": "code",
   "execution_count": null,
   "metadata": {},
   "outputs": [],
   "source": [
    "# Using Leakly ReLU is slightly different in Keras, which can be annoying.\n",
    "# Additionally, Keras allows us to choose any slope we want for the \"leaky\" part\n",
    "# rather than being statically 0.01 as in the above two functions. \n",
    "from tensorflow.keras.layers import LeakyReLU\n",
    "\n",
    "model = Sequential()\n",
    "model.add(Dense(units=10, input_shape=(image_size,)))\n",
    "model.add(LeakyReLU(alpha=.01))\n",
    "\n",
    "for _ in range(10):\n",
    "    model.add(Dense(units=10))\n",
    "    model.add(LeakyReLU(alpha=.01))\n",
    "\n",
    "model.add(Dense(units=num_classes, activation='softmax'))\n",
    "model.compile(optimizer=\"sgd\", loss='categorical_crossentropy', metrics=['accuracy'])\n",
    "model.summary()\n",
    "\n",
    "history = model.fit(training_data, training_labels, batch_size=128, epochs=20, verbose=False, validation_split=.1)\n",
    "plot_training_history(history, model)"
   ]
  },
  {
   "cell_type": "markdown",
   "metadata": {},
   "source": [
    "There are other activation functions, and there is ongoing research into which ones perform best and experimenting with new activation functions. \n",
    "\n",
    "In addition to the vanishing and dying gradient problems, another factor in the performance of activation functions is how efficent they are to compute, and how efficent their derivatives are to compute. Remember that we're computing these functions billions of times (or more!) during training. Relu is VERY FAST to compute, and so is it's derivative. Sigmoid, tanh, and some other commonly used activations are more expensive. \n",
    "\n",
    "Also remember that it's not nessesary to use the same activation for every layer in a network! For example, starting with a sigmoid and following up with ReLU's can work just fine, although it is rather uncommon:"
   ]
  },
  {
   "cell_type": "code",
   "execution_count": null,
   "metadata": {},
   "outputs": [],
   "source": [
    "model = Sequential()\n",
    "\n",
    "model.add(Dense(units=10, activation='sigmoid', input_shape=(image_size,)))\n",
    "model.add(Dense(units=10, activation='tanh'))\n",
    "model.add(Dense(units=10, activation='exponential'))\n",
    "\n",
    "model.add(Dense(units=10))\n",
    "model.add(LeakyReLU(alpha=.01))\n",
    "\n",
    "model.add(Dense(units=10))\n",
    "model.add(LeakyReLU(alpha=.05))\n",
    "\n",
    "model.add(Dense(units=10))\n",
    "model.add(LeakyReLU(alpha=.3))\n",
    "\n",
    "model.add(Dense(units=num_classes, activation='softmax'))\n",
    "model.compile(optimizer=\"sgd\", loss='categorical_crossentropy', metrics=['accuracy'])\n",
    "model.summary()\n",
    "\n",
    "history = model.fit(training_data, training_labels, batch_size=128, epochs=20, verbose=False, validation_split=.1)\n",
    "plot_training_history(history, model)"
   ]
  },
  {
   "cell_type": "markdown",
   "metadata": {},
   "source": [
    "A rule of thumb: Things are changing quickly. Do some quick research before you build a new model to determine if there is a new \"activation function of the week\". Use that one. If it doesn't produce results, try a different one. Repeat until one works, or you have exhausted the activation functions that you know of. At that point, you may need to collect more data, change your architecture, or try a different kind of model.\n",
    "\n",
    "At the time of this writing, one of the most popular activation functions is the Scaled Exponential Linear Unit (SELU). This activation is another modified ReLU, where the values greater than zero are still a linear function, the values below zero are an exponential curve, and the function scales the output to avoid a problem called \"exploding gradient\" which is the opposite of a dying or vanishing gradient:"
   ]
  },
  {
   "cell_type": "code",
   "execution_count": null,
   "metadata": {},
   "outputs": [],
   "source": [
    "model = Sequential()\n",
    "model.add(Dense(units=10, activation='selu', input_shape=(image_size,)))\n",
    "\n",
    "for _ in range(10):\n",
    "    model.add(Dense(units=10, activation='selu'))\n",
    "\n",
    "model.add(Dense(units=num_classes, activation='softmax'))\n",
    "model.compile(optimizer=\"sgd\", loss='categorical_crossentropy', metrics=['accuracy'])\n",
    "model.summary()\n",
    "\n",
    "history = model.fit(training_data, training_labels, batch_size=128, epochs=20, verbose=False, validation_split=.1)\n",
    "plot_training_history(history, model)"
   ]
  },
  {
   "cell_type": "code",
   "execution_count": null,
   "metadata": {},
   "outputs": [],
   "source": []
  }
 ],
 "metadata": {
  "kernelspec": {
   "display_name": "Python 3",
   "language": "python",
   "name": "python3"
  },
  "language_info": {
   "codemirror_mode": {
    "name": "ipython",
    "version": 3
   },
   "file_extension": ".py",
   "mimetype": "text/x-python",
   "name": "python",
   "nbconvert_exporter": "python",
   "pygments_lexer": "ipython3",
   "version": "3.7.7"
  }
 },
 "nbformat": 4,
 "nbformat_minor": 2
}
