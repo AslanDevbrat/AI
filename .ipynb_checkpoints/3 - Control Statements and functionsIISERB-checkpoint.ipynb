{
 "cells": [
  {
   "cell_type": "markdown",
   "metadata": {},
   "source": [
    "\n",
    "# If Statements and Loops"
   ]
  },
  {
   "cell_type": "markdown",
   "metadata": {},
   "source": [
    "## If Statements"
   ]
  },
  {
   "cell_type": "markdown",
   "metadata": {},
   "source": [
    "__Overview:__ \n",
    "- __[If Statements](https://docs.python.org/3/reference/compound_stmts.html#if):__ If statements are a cornerstone of any programming language and allow programmers to replicate decision making in a computer program\n",
    "- If Statements are one type of __[Control Flow](https://en.wikipedia.org/wiki/Control_flow)__ tool in Python \n",
    "\n",
    "__Helpful Points:__ \n",
    "1. If Statements work by evaluating a condition (i.e. `5 > 6`) and then based on whether this condition evaluates as `True` or `False`, performs some action \n",
    "2. The condition that is evaluated must return `True` or `False` (we will see below the various ways that `True` and `False` can be represented in Python)"
   ]
  },
  {
   "cell_type": "markdown",
   "metadata": {},
   "source": [
    "### General Format of If Statements"
   ]
  },
  {
   "cell_type": "markdown",
   "metadata": {},
   "source": [
    "__Overview:__\n",
    "- The general form of ANY If Statement is the following: `if <condition>`:\n",
    "- If statements in Python do not have parentheses and the statement ends with a colon (this colon is absolutely mandatory for Python's interpreter and you will get an error if it is ommited)\n",
    "- If statements require a 4-space indent within the statement, otherwise it will not get executed (identation indicates the __scope__ of the block of code - which lines are affected by statements)\n"
   ]
  },
  {
   "cell_type": "markdown",
   "metadata": {},
   "source": [
    "### Types of If Statements"
   ]
  },
  {
   "cell_type": "markdown",
   "metadata": {},
   "source": [
    "__Overview:__\n",
    "- If Statements can be described as one of the following 4 types:\n",
    "> 1. __Simple If Statement:__ If Statements evaluating one condition and performing one possible action \n",
    "> 2. __If-Else Statement (1 condition):__ If Statements evaluating one condition and performing different actions depending on the result \n",
    "> 3. __If-Else Statement (> 1 condition):__ If Statements evaluating more than one condition and performing different actions depending on the result \n",
    "> 4. __Nested If-Else Statement:__  If Statements evaluating more than one condition in a nested fashion and performing different actions depending on the result\n"
   ]
  },
  {
   "cell_type": "markdown",
   "metadata": {},
   "source": [
    "### Simple If Statement "
   ]
  },
  {
   "cell_type": "markdown",
   "metadata": {},
   "source": [
    "__Overview:__\n",
    "- The general format is described as:<br>\n",
    "\n",
    "`if condition is true`<br>\n",
    ">    `block of code to execute if condition is true`\n"
   ]
  },
  {
   "cell_type": "markdown",
   "metadata": {},
   "source": [
    "### Example 1 (Checking Values of Strings):"
   ]
  },
  {
   "cell_type": "code",
   "execution_count": 1,
   "metadata": {
    "ExecuteTime": {
     "end_time": "2019-10-28T01:46:04.981885Z",
     "start_time": "2019-10-28T01:46:04.968141Z"
    }
   },
   "outputs": [
    {
     "name": "stdout",
     "output_type": "stream",
     "text": [
      "Python is the best\n"
     ]
    }
   ],
   "source": [
    "var = \"python\"\n",
    "if var == \"python\":\n",
    "    print(\"Python is the best\")"
   ]
  },
  {
   "cell_type": "markdown",
   "metadata": {},
   "source": [
    "### Example 2 (Checking Values of Ints):"
   ]
  },
  {
   "cell_type": "code",
   "execution_count": 2,
   "metadata": {
    "ExecuteTime": {
     "end_time": "2019-10-28T01:47:02.114571Z",
     "start_time": "2019-10-28T01:47:02.111541Z"
    }
   },
   "outputs": [
    {
     "name": "stdout",
     "output_type": "stream",
     "text": [
      "a is even\n"
     ]
    }
   ],
   "source": [
    "a = 2\n",
    "if a % 2 == 0:\n",
    "    print(\"a is even\")"
   ]
  },
  {
   "cell_type": "markdown",
   "metadata": {},
   "source": [
    "### If-Else Statement (1 Condition):"
   ]
  },
  {
   "cell_type": "markdown",
   "metadata": {},
   "source": [
    "__Overview:__\n",
    "- The general format is described as:<br>\n",
    "\n",
    "`if condition is true`<br>\n",
    ">    `block of code to execute if condition is true`<br>\n",
    "\n",
    "`else`:<br>\n",
    ">    `block of code to execute if condition is false`<br>  \n",
    "\n",
    "__Helpful Points:__\n",
    "1. Introducing the `else` condition provides more clarity in the program \n"
   ]
  },
  {
   "cell_type": "markdown",
   "metadata": {},
   "source": [
    "### Example 3 (Checking Values of Strings):"
   ]
  },
  {
   "cell_type": "code",
   "execution_count": 5,
   "metadata": {
    "ExecuteTime": {
     "end_time": "2019-10-28T01:47:53.023018Z",
     "start_time": "2019-10-28T01:47:53.012792Z"
    }
   },
   "outputs": [
    {
     "name": "stdout",
     "output_type": "stream",
     "text": [
      "Python is the best\n"
     ]
    }
   ],
   "source": [
    "language = \"python\"\n",
    "if language == \"python\":\n",
    "    print(\"Python is the best\")\n",
    "else:\n",
    "    print(\"R(?) is the best\")"
   ]
  },
  {
   "cell_type": "markdown",
   "metadata": {},
   "source": [
    "### Example 4 (Checking Values of Ints):"
   ]
  },
  {
   "cell_type": "code",
   "execution_count": 6,
   "metadata": {
    "ExecuteTime": {
     "end_time": "2019-10-28T01:48:00.595411Z",
     "start_time": "2019-10-28T01:48:00.591227Z"
    }
   },
   "outputs": [
    {
     "name": "stdout",
     "output_type": "stream",
     "text": [
      "a is odd\n"
     ]
    }
   ],
   "source": [
    "a = 3\n",
    "if a % 2 == 0:\n",
    "    print(\"a is even\")\n",
    "else:\n",
    "    print(\"a is odd\")"
   ]
  },
  {
   "cell_type": "markdown",
   "metadata": {},
   "source": [
    "###  Type 3 - If-Else Statement (>1 Condition):"
   ]
  },
  {
   "cell_type": "markdown",
   "metadata": {},
   "source": [
    "__Overview:__\n",
    "- The general format is described as:<br>\n",
    "\n",
    "`if condition_1 is true`<br>\n",
    ">    `block of code to execute if condition_1 is true`<br>\n",
    "\n",
    "`elif condition_2 is true`:<br>\n",
    ">    `block of code to execute if condition_1 is false AND condition_2 is true`<br>\n",
    "\n",
    "`else`:<br>\n",
    ">    `block of code to execute if condition_1 is false AND condition_2 is false`<br>\n",
    "\n"
   ]
  },
  {
   "cell_type": "markdown",
   "metadata": {},
   "source": [
    "### Example 5 (Checking Values of Strings):"
   ]
  },
  {
   "cell_type": "code",
   "execution_count": 7,
   "metadata": {
    "ExecuteTime": {
     "end_time": "2019-10-28T04:05:24.454284Z",
     "start_time": "2019-10-28T04:05:24.450077Z"
    }
   },
   "outputs": [
    {
     "name": "stdout",
     "output_type": "stream",
     "text": [
      "a is less than or equal to 2\n"
     ]
    }
   ],
   "source": [
    "a = 2\n",
    "if a >= 3:\n",
    "    print(\"a is greater than or equal to 3\")\n",
    "elif a > 2:\n",
    "    print(\"a is greater than 2 but not greater than or equal to 3\")\n",
    "else:\n",
    "    print(\"a is less than or equal to 2\")"
   ]
  },
  {
   "cell_type": "markdown",
   "metadata": {},
   "source": [
    "### Problem 1:\n",
    "\n",
    "Write a program to check if a value is positive, zero, or negative. \n",
    "\n",
    "- The program should print the result (i.e. \"Value is positive\")\n",
    "- Check your program works by creating a positive, zero, and negative variable and ensure the program outputs the correct response every time\n",
    "- Use if statements"
   ]
  },
  {
   "cell_type": "code",
   "execution_count": 11,
   "metadata": {
    "ExecuteTime": {
     "end_time": "2019-10-28T01:49:40.555651Z",
     "start_time": "2019-10-28T01:49:40.550927Z"
    }
   },
   "outputs": [
    {
     "name": "stdout",
     "output_type": "stream",
     "text": [
      "-1 is negative\n",
      "0 is zero\n",
      "1 is positive\n"
     ]
    }
   ],
   "source": [
    "# Write your code here\n",
    "value = [-1,0,1]\n",
    "for number in value:\n",
    "    if number == 0:\n",
    "        print(f\"{number} is zero\")\n",
    "    elif number <0:\n",
    "        print(f\"{number} is negative\")\n",
    "    elif number >0:\n",
    "        print(f\"{number} is positive\")"
   ]
  },
  {
   "cell_type": "markdown",
   "metadata": {},
   "source": [
    "### Nested If-Else Statement:"
   ]
  },
  {
   "cell_type": "markdown",
   "metadata": {},
   "source": [
    "__Overview:__\n",
    "- The general format is described as:<br>\n",
    "\n",
    "`if condition_1 is true`:<br>\n",
    ">    `if condition_2 is true`:<br>\n",
    ">>        `block of code to execute if condition_1 is true AND condition_2 is true`\n",
    "\n",
    ">    `else`:<br>\n",
    ">>        `block of code to execute if condition_1 is true AND condition_2 is false`\n",
    "\n",
    "`else`:<br>\n",
    ">    `if condition_3 is true`:<br>\n",
    ">>        `block of code to execute if condition_1 is false AND condition_3 is true`\n",
    "\n",
    ">    `else`:<br>\n",
    ">>        `block of code to execute if condition_1 is false AND condition_3 is false`\n",
    "\n",
    "__Helpful Points:__\n",
    "1. Be careful when using nested if-else statements as they can often get messy and hard to read\n",
    "2. Always ensure you are using the 4-space indent "
   ]
  },
  {
   "cell_type": "markdown",
   "metadata": {},
   "source": [
    "### Example 6 (Checking Values of Ints):"
   ]
  },
  {
   "cell_type": "code",
   "execution_count": 12,
   "metadata": {
    "ExecuteTime": {
     "end_time": "2019-10-28T01:50:40.509898Z",
     "start_time": "2019-10-28T01:50:40.505666Z"
    }
   },
   "outputs": [
    {
     "name": "stdout",
     "output_type": "stream",
     "text": [
      "a is greater or equal to 1 and less than 3\n"
     ]
    }
   ],
   "source": [
    "a = 2\n",
    "if a >= 3:\n",
    "    if a <= 5:\n",
    "        print(\"a is greater than or equal to 3 and less than or equal to 5\")\n",
    "    else:\n",
    "        print(\"a is greater than 5\")\n",
    "else:\n",
    "    if a >= 1:\n",
    "        print(\"a is greater or equal to 1 and less than 3\")\n",
    "    else:\n",
    "        print(\"a is less than 1\")"
   ]
  },
  {
   "cell_type": "markdown",
   "metadata": {},
   "source": [
    "### Problem 2:\n",
    "\n",
    "Write a program to check if a year is a leap year (see below for the method to determine if a year is a leap year):\n",
    "\n",
    "1. If the year is evenly divisible by 4, go to step 2. Otherwise, go to step 5.\n",
    "2. If the year is evenly divisible by 100, go to step 3. Otherwise, go to step 4.\n",
    "3. If the year is evenly divisible by 400, go to step 4. Otherwise, go to step 5.\n",
    "4. The year is a leap year (it has 366 days).\n",
    "5. The year is not a leap year (it has 365 days).\n",
    "\n",
    "Notes:\n",
    "1. Use nested if-else statements in your answer \n",
    "2. Test your program using the year 2018"
   ]
  },
  {
   "cell_type": "code",
   "execution_count": 19,
   "metadata": {},
   "outputs": [
    {
     "name": "stdout",
     "output_type": "stream",
     "text": [
      "The year is a leap year (it has 366 days).\n"
     ]
    }
   ],
   "source": [
    "# Write your code here\n",
    "year = 2020 #worst year\n",
    "\n",
    "#step 1\n",
    "if year%4 == 0:\n",
    "    \n",
    "    # step 2\n",
    "    if year%100==0:\n",
    "    \n",
    "        #step 3\n",
    "        if year%400 == 0:\n",
    "            \n",
    "            print(\"The year is a leap year (it has 366 days).\")\n",
    "        else:\n",
    "             print(\"The year is not a leap year (it has 365 days).\")\n",
    "    else:\n",
    "        print(\"The year is a leap year (it has 366 days).\")\n",
    "        \n",
    "else:\n",
    "    print(\"The year is not a leap year (it has 365 days).\")\n",
    "    \n",
    "\n"
   ]
  },
  {
   "cell_type": "markdown",
   "metadata": {},
   "source": [
    "## 3.2 Loops "
   ]
  },
  {
   "cell_type": "markdown",
   "metadata": {},
   "source": [
    "### 3.2.1 What are Loops?"
   ]
  },
  {
   "cell_type": "markdown",
   "metadata": {},
   "source": [
    "__Overview:__\n",
    "- __Loops__: Loops are another cornerstone of programming and allow programmers to repeat steps multiple times until some condition is met or the condition has reached the pre-specified number of iterations \n",
    "- The condition in a loop is important as it determines how long the loop will run for \n",
    "- After each __[iteration](https://en.wikipedia.org/wiki/Iteration)__, the loop checks the condition. If the condition tells the loop to continue, another iteration will commence. If the condition tells the loop to stop, the loop will end. \n",
    "- For example, if you wanted to print \"Hello World\" 10 times, you can easily write 10 statements that look like this: `print(\"Hello World\")`, but this would not be the most efficient way of performing this task\n",
    "- Instead, you can leverage a loop to repeat the statement `print(\"Hello World\")` by enclosing the statemenet in a loop and telling the loop to repeat this task 10 times \n",
    "\n",
    "__Helpful Points:__\n",
    "1. Any time you find yourself having to repeat a step more than once, you should consider using a loop\n",
    "2. Common uses of loops are cycling through the rows and columns of tables, summing numbers, counting items, etc. \n",
    "3. Recall the fourth sequence type shown in Lecture 2 (the range type) which is represented as `range()`\n",
    "\n",
    "__Practice:__ Examples of where loops are necessary in Python "
   ]
  },
  {
   "cell_type": "markdown",
   "metadata": {},
   "source": [
    "### Example 7 (Printing Statements):"
   ]
  },
  {
   "cell_type": "code",
   "execution_count": 20,
   "metadata": {
    "ExecuteTime": {
     "end_time": "2019-10-28T01:52:31.551118Z",
     "start_time": "2019-10-28T01:52:31.546280Z"
    },
    "scrolled": true
   },
   "outputs": [
    {
     "name": "stdout",
     "output_type": "stream",
     "text": [
      "Hello World\n",
      "Hello World\n",
      "Hello World\n",
      "Hello World\n",
      "Hello World\n",
      "Hello World\n",
      "Hello World\n",
      "Hello World\n",
      "Hello World\n",
      "Hello World\n"
     ]
    }
   ],
   "source": [
    "# print \"Hello World\" 10 times without using a loop\n",
    "print(\"Hello World\")\n",
    "print(\"Hello World\")\n",
    "print(\"Hello World\")\n",
    "print(\"Hello World\")\n",
    "print(\"Hello World\")\n",
    "print(\"Hello World\")\n",
    "print(\"Hello World\")\n",
    "print(\"Hello World\")\n",
    "print(\"Hello World\")\n",
    "print(\"Hello World\")"
   ]
  },
  {
   "cell_type": "code",
   "execution_count": 21,
   "metadata": {
    "ExecuteTime": {
     "end_time": "2019-10-28T01:52:32.849115Z",
     "start_time": "2019-10-28T01:52:32.844986Z"
    }
   },
   "outputs": [
    {
     "name": "stdout",
     "output_type": "stream",
     "text": [
      "Hello World\n",
      "Hello World\n",
      "Hello World\n",
      "Hello World\n",
      "Hello World\n",
      "Hello World\n",
      "Hello World\n",
      "Hello World\n",
      "Hello World\n",
      "Hello World\n"
     ]
    }
   ],
   "source": [
    "# print \"Hello World\" 10 times with using a loop\n",
    "for i in range(10):\n",
    "    print(\"Hello World\")"
   ]
  },
  {
   "cell_type": "markdown",
   "metadata": {},
   "source": [
    "### Example 8 (Summing Numbers):"
   ]
  },
  {
   "cell_type": "code",
   "execution_count": 22,
   "metadata": {
    "ExecuteTime": {
     "end_time": "2019-10-28T01:52:40.084455Z",
     "start_time": "2019-10-28T01:52:40.080800Z"
    }
   },
   "outputs": [
    {
     "name": "stdout",
     "output_type": "stream",
     "text": [
      "6\n"
     ]
    }
   ],
   "source": [
    "# sum the numbers in a list without using a loop\n",
    "my_list = [1, 2, 3]\n",
    "sum_list = 0\n",
    "sum_list += my_list[0]\n",
    "sum_list += my_list[1]\n",
    "sum_list += my_list[2]\n",
    "\n",
    "print(sum_list)"
   ]
  },
  {
   "cell_type": "code",
   "execution_count": 23,
   "metadata": {
    "ExecuteTime": {
     "end_time": "2019-10-28T01:52:45.635747Z",
     "start_time": "2019-10-28T01:52:45.632790Z"
    }
   },
   "outputs": [
    {
     "name": "stdout",
     "output_type": "stream",
     "text": [
      "6\n"
     ]
    }
   ],
   "source": [
    "# sum the numbers in a list with using a loop\n",
    "my_list = [1, 2, 3]\n",
    "sum_list = 0\n",
    "for num in my_list:\n",
    "    sum_list += num\n",
    "\n",
    "print(sum_list)"
   ]
  },
  {
   "cell_type": "markdown",
   "metadata": {},
   "source": [
    "### Types of Loops in Python "
   ]
  },
  {
   "cell_type": "markdown",
   "metadata": {},
   "source": [
    "__Overview:__\n",
    "- Depending on the programming language, there may be different types of supported loops (i.e. for, while, do while, for each, etc.) \n",
    "- However, in Python, there are 2 main types of loops that are used: the `for` loop and the `while` loop\n",
    "- Similar to If Statements, Python does not require parantheses `(` and `)` to enclose the sequence\n",
    "- However, Python does require a colon (`:`) similar to If Statements as well as 4-space indentation to denote the code block \n",
    "\n",
    "__Helpful Points:__\n",
    "1. `for` loops are typically used to iterate over a sequence of data \n",
    "2. `while` loop are typically used to repeat a task until the condition is evaluated as `False` \n",
    "3. In most cases, `for` and `while` loops can be used interchangeably, although there is usually a \"better\" choice to make"
   ]
  },
  {
   "cell_type": "markdown",
   "metadata": {},
   "source": [
    "### 3.2.4 For Loop in Detail"
   ]
  },
  {
   "cell_type": "markdown",
   "metadata": {},
   "source": [
    "__Overview:__\n",
    "- __[For Loop](https://en.wikipedia.org/wiki/For_loop):__ For loops are the most common type of loop used in Python and is used for repeating a task `n` number of times \n",
    "- The general format of a `for` loop is as follows:\n",
    "\n",
    "`for i in <sequence>:`<br>\n",
    " >    `<statement>` \n",
    " \n",
    "- The `for` loop can be expressed simply as: \"for each element in the sequence, execute this statement. Once the last item of the sequence is reached, exit the loop\"\n"
   ]
  },
  {
   "cell_type": "markdown",
   "metadata": {},
   "source": [
    "- The `i` variable is assigned each element of the sequence, therefore it changes at each iteration\n",
    "- The `i` variables can be called any name you like, however by convention it is used for iterations like this (see [this](https://softwareengineering.stackexchange.com/questions/86904/why-do-most-of-us-use-i-as-a-loop-counter-variable) post for an interesting discussions of the reasons behind using variables like `i` and `j` in loops \n",
    "- The `i` variable DOES NOT need to be assigned outside the loop and it also exists after the loop is complete as whatever the last element of the sequence was (see examples below) \n",
    "\n",
    "__Helpful Points:__\n",
    "1. The `for` loop will continue iterating until the \"next\" method realizes that all the elements in the object have been accessed\n",
    "2. Therefore, the number of iterations of a `for` loop is known ahead of time and is equal to the number of elements in the sequence (or the output of the `len()` function)\n",
    "3. It is also possible (and common) to have a `for` loop inside another `for` loop - known as a __Nested Loop__\n",
    "\n",
    "__Practice:__ Examples of For Loops in Python "
   ]
  },
  {
   "cell_type": "markdown",
   "metadata": {},
   "source": [
    "### Example 9 (Loops with Lists):"
   ]
  },
  {
   "cell_type": "code",
   "execution_count": 24,
   "metadata": {
    "ExecuteTime": {
     "end_time": "2019-10-28T02:09:03.945042Z",
     "start_time": "2019-10-28T02:09:03.941495Z"
    }
   },
   "outputs": [
    {
     "name": "stdout",
     "output_type": "stream",
     "text": [
      "12\n"
     ]
    }
   ],
   "source": [
    "my_list = [1, 4, 2, 5]\n",
    "my_sum = 0\n",
    "\n",
    "# for loop to calculate the sum of all numbers in a list \n",
    "for num in my_list:\n",
    "    my_sum += num\n",
    "    \n",
    "print(my_sum)"
   ]
  },
  {
   "cell_type": "code",
   "execution_count": 25,
   "metadata": {
    "ExecuteTime": {
     "end_time": "2019-10-28T02:09:18.863190Z",
     "start_time": "2019-10-28T02:09:18.858611Z"
    }
   },
   "outputs": [
    {
     "name": "stdout",
     "output_type": "stream",
     "text": [
      "The number of even numbers are 5 and the number of odd numbers are 2\n"
     ]
    }
   ],
   "source": [
    "my_list_1 = [2, 4, 5, 6, 8, 9, 10]\n",
    "even_nums = 0\n",
    "odd_nums = 0\n",
    "\n",
    "# for loop to calculate the number of even and odd numbers in a list\n",
    "for num in my_list_1:\n",
    "    if num % 2: # recall the ways that Python interprets False (in this case, if the remainder is 0, this is considered false)\n",
    "        odd_nums += 1\n",
    "    else:\n",
    "        even_nums += 1\n",
    "\n",
    "print(\"The number of even numbers are {} and the number of odd numbers are {}\".format(even_nums, odd_nums))"
   ]
  },
  {
   "cell_type": "markdown",
   "metadata": {},
   "source": [
    "### Example 10 (Loops with Ranges):"
   ]
  },
  {
   "cell_type": "code",
   "execution_count": 26,
   "metadata": {
    "ExecuteTime": {
     "end_time": "2019-10-28T02:09:24.768072Z",
     "start_time": "2019-10-28T02:09:24.763935Z"
    }
   },
   "outputs": [
    {
     "name": "stdout",
     "output_type": "stream",
     "text": [
      "0\n",
      "2\n",
      "4\n",
      "6\n",
      "8\n",
      "10\n",
      "12\n",
      "14\n",
      "16\n",
      "18\n",
      "20\n"
     ]
    }
   ],
   "source": [
    "# for loop to print all the even numbers from 0 to 20\n",
    "for i in range(0, 21, 2):\n",
    "    print(i)"
   ]
  },
  {
   "cell_type": "code",
   "execution_count": 27,
   "metadata": {
    "ExecuteTime": {
     "end_time": "2019-10-28T02:09:30.182618Z",
     "start_time": "2019-10-28T02:09:30.179163Z"
    }
   },
   "outputs": [
    {
     "name": "stdout",
     "output_type": "stream",
     "text": [
      "499500\n"
     ]
    }
   ],
   "source": [
    "int_sum = 0\n",
    "\n",
    "# for loop to calculate the sum of integers from 1 to 999\n",
    "for i in range(1, 1000):\n",
    "    int_sum += i\n",
    "\n",
    "print(int_sum)"
   ]
  },
  {
   "cell_type": "markdown",
   "metadata": {},
   "source": [
    "### Example 11 (Loops with Dictionaries):\n",
    "\n",
    "- Recall that although dictionaries are unordered (they are not sequences), we can still access their keys, values and items\n",
    "- Therefore, we can easily loop through dictionaries keys, values and items "
   ]
  },
  {
   "cell_type": "code",
   "execution_count": 28,
   "metadata": {
    "ExecuteTime": {
     "end_time": "2019-10-28T02:10:14.890853Z",
     "start_time": "2019-10-28T02:10:14.887343Z"
    }
   },
   "outputs": [],
   "source": [
    "my_dict = {\"First_Name\":\"Parthiban\", \"Last_Name\":\"Srinivasan\", \"City\":\"Bhopal\", \"Country\":\"India\"}"
   ]
  },
  {
   "cell_type": "markdown",
   "metadata": {},
   "source": [
    "### Example 11.1 (Loops with Dictionary Keys):"
   ]
  },
  {
   "cell_type": "code",
   "execution_count": 29,
   "metadata": {
    "ExecuteTime": {
     "end_time": "2019-10-28T02:10:18.978445Z",
     "start_time": "2019-10-28T02:10:18.975087Z"
    }
   },
   "outputs": [
    {
     "name": "stdout",
     "output_type": "stream",
     "text": [
      "First_Name\n",
      "Last_Name\n",
      "City\n",
      "Country\n"
     ]
    }
   ],
   "source": [
    "# using the keys method directly \n",
    "for key in my_dict.keys():\n",
    "    print(key)"
   ]
  },
  {
   "cell_type": "code",
   "execution_count": 30,
   "metadata": {
    "ExecuteTime": {
     "end_time": "2019-10-28T02:10:20.331482Z",
     "start_time": "2019-10-28T02:10:20.327368Z"
    }
   },
   "outputs": [
    {
     "name": "stdout",
     "output_type": "stream",
     "text": [
      "First_Name\n",
      "Last_Name\n",
      "City\n",
      "Country\n"
     ]
    }
   ],
   "source": [
    "# using the keys method indirectly \n",
    "for key in my_dict:\n",
    "    print(key)"
   ]
  },
  {
   "cell_type": "markdown",
   "metadata": {},
   "source": [
    "### Example 11.2 (Loops with Dictionary Values):"
   ]
  },
  {
   "cell_type": "code",
   "execution_count": 31,
   "metadata": {
    "ExecuteTime": {
     "end_time": "2019-10-28T02:10:25.578433Z",
     "start_time": "2019-10-28T02:10:25.574924Z"
    }
   },
   "outputs": [
    {
     "name": "stdout",
     "output_type": "stream",
     "text": [
      "Parthiban\n",
      "Srinivasan\n",
      "Bhopal\n",
      "India\n"
     ]
    }
   ],
   "source": [
    "for value in my_dict.values():\n",
    "    print(value)"
   ]
  },
  {
   "cell_type": "markdown",
   "metadata": {},
   "source": [
    "### Example 11.3 (Loops with Dictionary Items):"
   ]
  },
  {
   "cell_type": "code",
   "execution_count": 32,
   "metadata": {
    "ExecuteTime": {
     "end_time": "2019-10-28T02:10:27.018952Z",
     "start_time": "2019-10-28T02:10:27.015074Z"
    }
   },
   "outputs": [
    {
     "name": "stdout",
     "output_type": "stream",
     "text": [
      "('First_Name', 'Parthiban')\n",
      "('Last_Name', 'Srinivasan')\n",
      "('City', 'Bhopal')\n",
      "('Country', 'India')\n"
     ]
    }
   ],
   "source": [
    "for item in my_dict.items():\n",
    "    print(item)"
   ]
  },
  {
   "cell_type": "code",
   "execution_count": 33,
   "metadata": {
    "ExecuteTime": {
     "end_time": "2019-10-28T02:10:28.997314Z",
     "start_time": "2019-10-28T02:10:28.993249Z"
    }
   },
   "outputs": [
    {
     "name": "stdout",
     "output_type": "stream",
     "text": [
      "First_Name : Parthiban\n",
      "Last_Name : Srinivasan\n",
      "City : Bhopal\n",
      "Country : India\n"
     ]
    }
   ],
   "source": [
    "# We can use unpacking of items into two variables (key, value) to iterate over the items and extract the keys and values at every iteration\n",
    "for key, value in my_dict.items():\n",
    "    print(\"{} : {}\".format(key, value))"
   ]
  },
  {
   "cell_type": "markdown",
   "metadata": {},
   "source": [
    "### Example 12 (Nested For Loop):"
   ]
  },
  {
   "cell_type": "code",
   "execution_count": 34,
   "metadata": {
    "ExecuteTime": {
     "end_time": "2019-10-28T02:10:36.329194Z",
     "start_time": "2019-10-28T02:10:36.324771Z"
    }
   },
   "outputs": [
    {
     "name": "stdout",
     "output_type": "stream",
     "text": [
      "a\n",
      "b\n",
      "c\n",
      "1\n",
      "2\n",
      "3\n",
      "d\n",
      "e\n",
      "f\n"
     ]
    }
   ],
   "source": [
    "# use a nested for loop to extract every element of a nested list \n",
    "my_nested_list = [[\"a\", \"b\", \"c\"], [1, 2, 3], [\"d\", \"e\", \"f\"]]\n",
    "for interior_list in my_nested_list:\n",
    "    for element in interior_list:\n",
    "        print(element)"
   ]
  },
  {
   "cell_type": "markdown",
   "metadata": {},
   "source": [
    "### Problem 3\n",
    "\n",
    "Write a program to calculate the maximum value of a list: `[3, 36, 154, 2, 145]` \n",
    "\n",
    "- You should used a `for` loop in your answer\n",
    "- You should use an `if` statement in your answer\n",
    "- Do not use any built-in Python functions\n",
    "- Print the maximum value of the list at the end of your program"
   ]
  },
  {
   "cell_type": "code",
   "execution_count": 35,
   "metadata": {
    "ExecuteTime": {
     "end_time": "2019-10-28T03:49:20.300486Z",
     "start_time": "2019-10-28T03:49:20.298753Z"
    }
   },
   "outputs": [
    {
     "name": "stdout",
     "output_type": "stream",
     "text": [
      "maximum value of a list: [3, 36, 154, 2, 145] is 154\n"
     ]
    }
   ],
   "source": [
    "# Write your code here\n",
    "value_list = [3, 36, 154, 2, 145]\n",
    "maximum = -float('inf')\n",
    "for item in value_list:\n",
    "    if item>maximum:\n",
    "        maximum=item\n",
    "print(f\"maximum value of a list: [3, 36, 154, 2, 145] is {maximum}\")\n",
    "    \n"
   ]
  },
  {
   "cell_type": "markdown",
   "metadata": {},
   "source": [
    "### While Loop in Detail "
   ]
  },
  {
   "cell_type": "markdown",
   "metadata": {},
   "source": [
    "__Overview:__\n",
    "- __[While Loop](https://en.wikipedia.org/wiki/While_loop):__ While loops are not quite as common as `for` loops but are still helpful for executing a task repeatedly until the condition is evaluated as `False` \n",
    "- The general format of a `while` loop is as follows:\n",
    "\n",
    "`while <condition is True>:`<br>\n",
    " >    `<statement>` \n",
    " \n",
    "- The `while` loop can be expressed simply as: \"while the condition is TRUE, execute the statement. If the condition is evaluated as FALSE, exit the loop\"\n",
    "- Unlike `for` loops, a sequence is not required to iterate over (making `while` loops more general and less restrictive than `for` loops)\n",
    "- In `while` loops, you wish to repeat a task until an exit condition is met \n",
    "- While loops can also be expressed visually: <img src=\"img16.jpg\",width=400,height=400>"
   ]
  },
  {
   "cell_type": "markdown",
   "metadata": {},
   "source": [
    "- Any condition in Python that can be interpreted as Boolean Value can be used in the `<condition>` part of the statement \n",
    "- Recall in section 3.1.4.1 the possible objects that Python interprets as `False` and therefore, the converse being interpreted as `True`\n",
    "\n",
    "__Helpful Points:__\n",
    "1. The `while` loop will continue iterating until the `<condition>` is evaluated as `False` \n",
    "2. Therefore, the number of iterations of a `while` loop is not always known ahead of time, but it is equal to the number of iterations until the exit condition was met \n",
    "3. Be careful of an __[Infinite Loop](https://en.wikipedia.org/wiki/Infinite_loop)__ which is a loop that never reaches its stopping condition (see example 4 below)\n",
    "\n",
    "__Practice:__ Examples of While Loops in Python "
   ]
  },
  {
   "cell_type": "markdown",
   "metadata": {},
   "source": [
    "### Example 13 (Illustrative Example of While Loop in Python)\n",
    "\n",
    "- Suppose you were living in Chicago and getting ready to brace the cold winter. One would say: \"While the internal body temperature is \"low\", add a layer to incresae internal temperature.\"\n",
    "- We can express this scenario in the `while` loop fashion:\n",
    "\n",
    "`while internal temperature is low`:\n",
    ">    `add a layer to increse internal temperature`\n",
    "\n",
    "- We can make this example concrete and numerical and assume that internal temperature should be maintained at 98 degrees F and every layer we add, we increase our body temperature by 1 degree "
   ]
  },
  {
   "cell_type": "code",
   "execution_count": 36,
   "metadata": {},
   "outputs": [
    {
     "name": "stdout",
     "output_type": "stream",
     "text": [
      "internal temperature is at 93, so add a layer\n",
      "internal temperature is at 94, so add a layer\n",
      "internal temperature is at 95, so add a layer\n",
      "internal temperature is at 96, so add a layer\n",
      "internal temperature is at 97, so add a layer\n",
      "internal temperature is now at 98 and we added 5 layers\n"
     ]
    }
   ],
   "source": [
    "internal_temperature = 93\n",
    "layers = 0\n",
    "while internal_temperature < 98:\n",
    "    print(\"internal temperature is at {}, so add a layer\".format(internal_temperature))\n",
    "    internal_temperature += 1\n",
    "    layers += 1\n",
    "\n",
    "print(\"internal temperature is now at {} and we added {} layers\".format(internal_temperature, layers))"
   ]
  },
  {
   "cell_type": "markdown",
   "metadata": {},
   "source": [
    "Interpretation:\n",
    "- The `while` loop in Example 1 can be interpreted as follows:\n",
    "> 1. Check if `internal_temperature` is < 98. This is true, so print statement, increment `internal_temperature` (now, `internal_temperature` = __94__, increment layers (now, `layers` = __1__)\n",
    "> 2. Check if `internal_temperature` is < 98. This is true, so print statement, increment `internal_temperature` (now, `internal_temperature` = __95__, increment layers (now, `layers` = __2__)\n",
    "> 3. Check if `internal_temperature` is < 98. This is true, so print statement, increment `internal_temperature` (now, `internal_temperature` = __96__, increment layers (now, `layers` = __3__)\n",
    "> 4. Check if `internal_temperature` is < 98. This is true, so print statement, increment `internal_temperature` (now, `internal_temperature` = __97__, increment layers (now, `layers` = __4__)\n",
    "> 5. Check if `internal_temperature` is < 98. This is true, so print statement, increment `internal_temperature` (now, `internal_temperature` = __98__, increment layers (now, `layers` = __5__)\n",
    "> 6. Check if `internal_temperature` is < 98. This is false, so exit the loop."
   ]
  },
  {
   "cell_type": "markdown",
   "metadata": {},
   "source": [
    "Notes:\n",
    "1. Unlike `for` loops, `while` loops do not increment variables for you\n",
    "2. If you would like to increment a variable, you must do it manually like the example above "
   ]
  },
  {
   "cell_type": "markdown",
   "metadata": {},
   "source": [
    "### Example 14 (While Loop - Unknown Iterations):"
   ]
  },
  {
   "cell_type": "code",
   "execution_count": 37,
   "metadata": {
    "ExecuteTime": {
     "end_time": "2019-10-28T03:01:58.618871Z",
     "start_time": "2019-10-28T03:01:58.616375Z"
    }
   },
   "outputs": [],
   "source": [
    "# ignore this for now, we will explore modules below. We are just loading some additional capabilities in that is not built in Python\n",
    "import random"
   ]
  },
  {
   "cell_type": "code",
   "execution_count": 38,
   "metadata": {
    "ExecuteTime": {
     "end_time": "2019-10-28T03:02:25.931551Z",
     "start_time": "2019-10-28T03:02:25.927244Z"
    },
    "scrolled": true
   },
   "outputs": [
    {
     "name": "stdout",
     "output_type": "stream",
     "text": [
      "8\n",
      "1\n",
      "8\n",
      "2\n",
      "It took 4 iteration(s) to get a 2\n"
     ]
    }
   ],
   "source": [
    "# keep choosing a number randomly from a range of 0 - 9 until you get a 2\n",
    "num_save = 0\n",
    "num_iter = 0\n",
    "goal = 2\n",
    "while num_save != goal:\n",
    "    num_save = random.sample(range(10), 1)[0] # randomly select a number and save as int \n",
    "    print(num_save)\n",
    "    num_iter += 1\n",
    "\n",
    "print(\"It took {} iteration(s) to get a {}\".format(num_iter, goal))"
   ]
  },
  {
   "cell_type": "markdown",
   "metadata": {},
   "source": [
    "Interpretation:\n",
    "- At each iteration, we check if the number chosen is equal to a 2\n",
    "- If the number randomly chosen is not equal to a 2, print the number and increment the number of iterations\n",
    "- If the number randomly chosen is equal to a 2, exit the loop"
   ]
  },
  {
   "cell_type": "markdown",
   "metadata": {},
   "source": [
    "### Example 15 (Infinite Loop):"
   ]
  },
  {
   "cell_type": "code",
   "execution_count": null,
   "metadata": {},
   "outputs": [],
   "source": [
    "# if you run this, it will never end \n",
    "#a = 1\n",
    "#while a > 0:\n",
    "#    print(\"a is still greater than 0\")"
   ]
  },
  {
   "cell_type": "markdown",
   "metadata": {},
   "source": [
    "In the above example, the stopping condition (`a > 0`) is never met since `a = 1`. Therefore, the `while` loop will continue iterating forever...\n",
    "\n",
    "- Run this cell above, but stop it after a few seconds by clicking the \"stop\" button which interrupts the Kernel"
   ]
  },
  {
   "cell_type": "markdown",
   "metadata": {},
   "source": [
    "### Advanced Mechanisms for Loops in Python:"
   ]
  },
  {
   "cell_type": "markdown",
   "metadata": {},
   "source": [
    "__Overview:__\n",
    "- You now know everything you need to in order to perform all looping tasks in Python \n",
    "- However, there exists some additional functionality in Python that allows loops to be written in a cleaner and more efficient fashion\n",
    "- Python has 2 additional ways to perform loops:\n",
    "> 1. Using the built-in function `enumerate`\n",
    "\n"
   ]
  },
  {
   "cell_type": "markdown",
   "metadata": {},
   "source": [
    "### Using Built-In Functions (`enumerate`)"
   ]
  },
  {
   "cell_type": "markdown",
   "metadata": {},
   "source": [
    "__Overview:__\n",
    "- The __[`enumerate`](https://docs.python.org/3/library/functions.html#enumerate)__ function's main benefit is that it allows you to loop over a sequence and have an automatic counter\n",
    "- Recall all the times in the above examples when we had to manually define counters outside the loop and then increment the counter in the loop. Enumerate function aims to fix this \n",
    "\n",
    "__Helpful Points:__\n",
    "1. The function accepts two parameters: `enumerate(iterable, start=0)`, therfore the first argument is required to be an `iterable` object (see section 3.2.3) and the second argument indicates what the counter should begin at \n",
    "2. The `enumerate` function outputs a `tuple` object which contains 2 elements: 1. the `count` and 2. the value \n",
    "\n",
    "__Practice:__ Examples of using Enumerate function in Python "
   ]
  },
  {
   "cell_type": "markdown",
   "metadata": {},
   "source": [
    "### Example 16 (Perform Similar Action without Enumerate):\n",
    "\n",
    "- Without using `enumerate`, we have choose one of two options: \n",
    "> 1. Iterate based on contents of the sequence -> returns the contents \n",
    "> 2. Iterate based on an integer and index the sequence by the integer to access the contents -> returns the index \n",
    "\n",
    "- BUT, if we wanted to iterate and return BOTH 1 (the contents) and 2 (index), we would need to MANUALLY return both (see example 1.3)"
   ]
  },
  {
   "cell_type": "markdown",
   "metadata": {},
   "source": [
    "### Example 16.1 (Iterate based on Contents):"
   ]
  },
  {
   "cell_type": "code",
   "execution_count": 39,
   "metadata": {
    "ExecuteTime": {
     "end_time": "2019-10-28T03:05:05.201203Z",
     "start_time": "2019-10-28T03:05:05.197323Z"
    }
   },
   "outputs": [
    {
     "name": "stdout",
     "output_type": "stream",
     "text": [
      "a\n",
      "b\n",
      "c\n",
      "d\n",
      "e\n"
     ]
    }
   ],
   "source": [
    "our_list = ['a','b','c','d','e']\n",
    "for content in our_list:\n",
    "    print(content)"
   ]
  },
  {
   "cell_type": "markdown",
   "metadata": {},
   "source": [
    "This method gives us the contents BUT does not return the index (0, 1, 2, 3, 4)"
   ]
  },
  {
   "cell_type": "markdown",
   "metadata": {},
   "source": [
    "### Example 16.2 (Iterate based on Index):"
   ]
  },
  {
   "cell_type": "code",
   "execution_count": 40,
   "metadata": {
    "ExecuteTime": {
     "end_time": "2019-10-28T03:04:22.459533Z",
     "start_time": "2019-10-28T03:04:22.455946Z"
    }
   },
   "outputs": [
    {
     "name": "stdout",
     "output_type": "stream",
     "text": [
      "0\n",
      "1\n",
      "2\n",
      "3\n",
      "4\n"
     ]
    }
   ],
   "source": [
    "our_list = ['a','b','c','d','e']\n",
    "for i in range(len(our_list)):\n",
    "    print(i)"
   ]
  },
  {
   "cell_type": "markdown",
   "metadata": {},
   "source": [
    "### Example 16.3 (Return both Contents and Index):"
   ]
  },
  {
   "cell_type": "code",
   "execution_count": 41,
   "metadata": {
    "ExecuteTime": {
     "end_time": "2019-10-28T03:04:31.732488Z",
     "start_time": "2019-10-28T03:04:31.728146Z"
    }
   },
   "outputs": [
    {
     "name": "stdout",
     "output_type": "stream",
     "text": [
      "0 a\n",
      "1 b\n",
      "2 c\n",
      "3 d\n",
      "4 e\n"
     ]
    }
   ],
   "source": [
    "our_list = ['a','b','c','d','e']\n",
    "for i in range(len(our_list)):\n",
    "    print(i, our_list[i])"
   ]
  },
  {
   "cell_type": "markdown",
   "metadata": {},
   "source": [
    "### Example 17 (Perform Action with Enumerate):\n",
    "\n",
    "- By using `enumerate`, we are able to return BOTH the contents and the index "
   ]
  },
  {
   "cell_type": "code",
   "execution_count": 42,
   "metadata": {
    "ExecuteTime": {
     "end_time": "2019-10-28T03:04:33.959610Z",
     "start_time": "2019-10-28T03:04:33.955560Z"
    }
   },
   "outputs": [
    {
     "name": "stdout",
     "output_type": "stream",
     "text": [
      "The counter is 0 and the value is a\n",
      "The counter is 1 and the value is b\n",
      "The counter is 2 and the value is c\n",
      "The counter is 3 and the value is d\n",
      "The counter is 4 and the value is e\n"
     ]
    }
   ],
   "source": [
    "our_list = ['a','b','c','d','e']\n",
    "for counter, value in enumerate(our_list): # start counter at default value of 0\n",
    "    print(\"The counter is {} and the value is {}\".format(counter, value))"
   ]
  },
  {
   "cell_type": "code",
   "execution_count": 43,
   "metadata": {
    "ExecuteTime": {
     "end_time": "2019-10-28T03:04:47.940906Z",
     "start_time": "2019-10-28T03:04:47.936473Z"
    }
   },
   "outputs": [
    {
     "name": "stdout",
     "output_type": "stream",
     "text": [
      "The counter is 10 and the value is a\n",
      "The counter is 11 and the value is b\n",
      "The counter is 12 and the value is c\n",
      "The counter is 13 and the value is d\n",
      "The counter is 14 and the value is e\n"
     ]
    }
   ],
   "source": [
    "our_list = ['a','b','c','d','e']\n",
    "for counter, value in enumerate(our_list, 10): # start counter at value of 10\n",
    "    print(\"The counter is {} and the value is {}\".format(counter, value))"
   ]
  },
  {
   "cell_type": "markdown",
   "metadata": {},
   "source": [
    "## Zipping"
   ]
  },
  {
   "cell_type": "markdown",
   "metadata": {},
   "source": [
    "__Overview:__\n",
    "- __[Zipping](http://python-reference.readthedocs.io/en/latest/docs/functions/zip.html)__: Zipping is a convenient feature in Python that allows you to combine 2 or more sequences, into a single sequence\n",
    "- The new sequence consists of a list of `n-tuples` (where the i-th tuple contains the i-th element from each of the argument sequences) and `n` is the number of sequences which corresponds to the length of the list\n",
    "- For example, 2 objects that are of type `list`, can be \"zipped\" together and the resulting list will be a `tuple` looking like this: `[(element 0 of list 1, element 0 of list 2), (element 1 of list 1, element 1 of list 2), ...]`\n",
    "- __Unzipping:__ Unzipping is the opposite of the __Zipping__ feature and is performed by using the `*` operator \n"
   ]
  },
  {
   "cell_type": "markdown",
   "metadata": {},
   "source": [
    "### Part 1 (Zipping):"
   ]
  },
  {
   "cell_type": "markdown",
   "metadata": {},
   "source": [
    "### Example 18.1 (Zip With No Arguments):"
   ]
  },
  {
   "cell_type": "code",
   "execution_count": 44,
   "metadata": {
    "ExecuteTime": {
     "end_time": "2019-10-28T03:05:38.661277Z",
     "start_time": "2019-10-28T03:05:38.651836Z"
    }
   },
   "outputs": [
    {
     "data": {
      "text/plain": [
       "<zip at 0x1b120f793c8>"
      ]
     },
     "execution_count": 44,
     "metadata": {},
     "output_type": "execute_result"
    }
   ],
   "source": [
    "zip()"
   ]
  },
  {
   "cell_type": "code",
   "execution_count": 45,
   "metadata": {
    "ExecuteTime": {
     "end_time": "2019-10-28T03:05:39.960134Z",
     "start_time": "2019-10-28T03:05:39.956338Z"
    }
   },
   "outputs": [
    {
     "data": {
      "text/plain": [
       "[]"
      ]
     },
     "execution_count": 45,
     "metadata": {},
     "output_type": "execute_result"
    }
   ],
   "source": [
    "list(zip())"
   ]
  },
  {
   "cell_type": "markdown",
   "metadata": {},
   "source": [
    "With no arguments, the `zip()` function returns an empty list (after converting to a list, of course)"
   ]
  },
  {
   "cell_type": "markdown",
   "metadata": {},
   "source": [
    "### Example 18.2 (Zip with One Argument):"
   ]
  },
  {
   "cell_type": "code",
   "execution_count": 46,
   "metadata": {},
   "outputs": [],
   "source": [
    "my_list = [1,2,3]"
   ]
  },
  {
   "cell_type": "code",
   "execution_count": 47,
   "metadata": {},
   "outputs": [
    {
     "data": {
      "text/plain": [
       "<zip at 0x1b120f74c08>"
      ]
     },
     "execution_count": 47,
     "metadata": {},
     "output_type": "execute_result"
    }
   ],
   "source": [
    "zip(my_list)"
   ]
  },
  {
   "cell_type": "code",
   "execution_count": 48,
   "metadata": {},
   "outputs": [
    {
     "data": {
      "text/plain": [
       "[(1,), (2,), (3,)]"
      ]
     },
     "execution_count": 48,
     "metadata": {},
     "output_type": "execute_result"
    }
   ],
   "source": [
    "list(zip(my_list))"
   ]
  },
  {
   "cell_type": "markdown",
   "metadata": {},
   "source": [
    "With 1 argument, the `zip()` function returns a list of `1-tuples` (after converting to a list, of course)"
   ]
  },
  {
   "cell_type": "markdown",
   "metadata": {},
   "source": [
    "### Example 18.3 (Zip with Multiple Arguments of the Same Length):"
   ]
  },
  {
   "cell_type": "code",
   "execution_count": 49,
   "metadata": {
    "ExecuteTime": {
     "end_time": "2019-10-28T03:06:06.668916Z",
     "start_time": "2019-10-28T03:06:06.666351Z"
    }
   },
   "outputs": [],
   "source": [
    "my_list_1 = [1,2,3]\n",
    "my_list_2 = [4,5,6]"
   ]
  },
  {
   "cell_type": "code",
   "execution_count": 50,
   "metadata": {
    "ExecuteTime": {
     "end_time": "2019-10-28T03:06:06.881069Z",
     "start_time": "2019-10-28T03:06:06.876713Z"
    }
   },
   "outputs": [
    {
     "data": {
      "text/plain": [
       "<zip at 0x1b120f4fbc8>"
      ]
     },
     "execution_count": 50,
     "metadata": {},
     "output_type": "execute_result"
    }
   ],
   "source": [
    "zip(my_list_1, my_list_2)"
   ]
  },
  {
   "cell_type": "code",
   "execution_count": 51,
   "metadata": {
    "ExecuteTime": {
     "end_time": "2019-10-28T03:06:07.374476Z",
     "start_time": "2019-10-28T03:06:07.369598Z"
    }
   },
   "outputs": [
    {
     "data": {
      "text/plain": [
       "[(1, 4), (2, 5), (3, 6)]"
      ]
     },
     "execution_count": 51,
     "metadata": {},
     "output_type": "execute_result"
    }
   ],
   "source": [
    "list(zip(my_list_1, my_list_2))"
   ]
  },
  {
   "cell_type": "markdown",
   "metadata": {},
   "source": [
    "- With 2 arguments, the `zip()` function returns a list of `2-tuples` (after converting to a list, of course)\n",
    "- Notice the `2-tuple` at position `0` contains the 0th element of `my_list_1` and the 0th element of `my_list_2` \n",
    "- Notice the `2-tuple` at position `1` contains the 1st element of `my_list_1` and the 1st element of `my_list_2` \n",
    "- Notice the `2-tuple` at position `2` contains the 2nd element of `my_list_1` and the 2nd element of `my_list_2` "
   ]
  },
  {
   "cell_type": "markdown",
   "metadata": {},
   "source": [
    "### Example 18.4 (Zip with Multiple Argument of Different Lengths):"
   ]
  },
  {
   "cell_type": "code",
   "execution_count": 52,
   "metadata": {
    "ExecuteTime": {
     "end_time": "2019-10-28T03:06:14.485785Z",
     "start_time": "2019-10-28T03:06:14.483025Z"
    }
   },
   "outputs": [],
   "source": [
    "my_list_1 = [1,2,3]\n",
    "my_list_2 = [4,5,6]\n",
    "my_list_3 = [7,8,9,10]"
   ]
  },
  {
   "cell_type": "code",
   "execution_count": 53,
   "metadata": {
    "ExecuteTime": {
     "end_time": "2019-10-28T03:06:14.728643Z",
     "start_time": "2019-10-28T03:06:14.724142Z"
    }
   },
   "outputs": [
    {
     "data": {
      "text/plain": [
       "<zip at 0x1b120f66fc8>"
      ]
     },
     "execution_count": 53,
     "metadata": {},
     "output_type": "execute_result"
    }
   ],
   "source": [
    "zip(my_list_1, my_list_2, my_list_3)"
   ]
  },
  {
   "cell_type": "code",
   "execution_count": 54,
   "metadata": {
    "ExecuteTime": {
     "end_time": "2019-10-28T03:06:15.384677Z",
     "start_time": "2019-10-28T03:06:15.380751Z"
    }
   },
   "outputs": [
    {
     "data": {
      "text/plain": [
       "[(1, 4, 7), (2, 5, 8), (3, 6, 9)]"
      ]
     },
     "execution_count": 54,
     "metadata": {},
     "output_type": "execute_result"
    }
   ],
   "source": [
    "list(zip(my_list_1, my_list_2, my_list_3))"
   ]
  },
  {
   "cell_type": "code",
   "execution_count": 55,
   "metadata": {
    "ExecuteTime": {
     "end_time": "2019-10-28T03:06:15.591648Z",
     "start_time": "2019-10-28T03:06:15.586435Z"
    }
   },
   "outputs": [
    {
     "data": {
      "text/plain": [
       "3"
      ]
     },
     "execution_count": 55,
     "metadata": {},
     "output_type": "execute_result"
    }
   ],
   "source": [
    "len(list(zip(my_list_1, my_list_2, my_list_3)))"
   ]
  },
  {
   "cell_type": "markdown",
   "metadata": {},
   "source": [
    "- With 3 arguments, the `zip()` function returns a list of `3-tuples` (after converting to a list, of course)\n",
    "- Notice the `3-tuple` at position `0` contains the 0th element of `my_list_1`, 0th element of `my_list_2` and the 0th element of `my_list_3`\n",
    "- Notice the `3-tuple` at position `1` contains the 1st element of `my_list_1`, 1st element of `my_list_2` and the 1st element of `my_list_3` \n",
    "- Notice the `3-tuple` at position `2` contains the 2nd element of `my_list_1`, 2nd element of `my_list_2` and the 2nd element of `my_list_3` \n",
    "- Notice the resulting `list` is of length 3 since that is the length of the shortest sequence that was passed in and the 3rd element of `my_list_3` gets truncated "
   ]
  },
  {
   "cell_type": "markdown",
   "metadata": {},
   "source": [
    "### Part 2 (Zipping in `for` loops):\n",
    "\n",
    "- If we need to iterate over multiple sequences, there is a way (albeit, messy) way to do it using the skills learned up to this point\n",
    "- However, zipping makes this much cleaner and concise "
   ]
  },
  {
   "cell_type": "markdown",
   "metadata": {},
   "source": [
    "### Example 19.1 (Iterating Multiple Sequence - Method 1):"
   ]
  },
  {
   "cell_type": "code",
   "execution_count": 56,
   "metadata": {
    "ExecuteTime": {
     "end_time": "2019-10-28T03:07:53.331291Z",
     "start_time": "2019-10-28T03:07:53.327727Z"
    }
   },
   "outputs": [],
   "source": [
    "city = [\"Chicago\", \"Seattle\", \"New York City\"]\n",
    "state = [\"Illinois\", \"Washington\", \"New York\"]\n",
    "employee = [\"Joe\", \"Roberta\", \"Alice\"]"
   ]
  },
  {
   "cell_type": "code",
   "execution_count": 57,
   "metadata": {
    "ExecuteTime": {
     "end_time": "2019-10-28T03:07:53.667357Z",
     "start_time": "2019-10-28T03:07:53.663531Z"
    }
   },
   "outputs": [
    {
     "name": "stdout",
     "output_type": "stream",
     "text": [
      "Joe works in Chicago, Illinois\n",
      "Roberta works in Seattle, Washington\n",
      "Alice works in New York City, New York\n"
     ]
    }
   ],
   "source": [
    "# loop through multiple sequences without zipping\n",
    "for i in range(len(city)):\n",
    "    print(\"{} works in {}, {}\".format(employee[i], city[i], state[i]))"
   ]
  },
  {
   "cell_type": "markdown",
   "metadata": {},
   "source": [
    "### Example 19.2 (Iterating Multiple Sequences - Method 2):"
   ]
  },
  {
   "cell_type": "code",
   "execution_count": 58,
   "metadata": {
    "ExecuteTime": {
     "end_time": "2019-10-28T03:08:14.095792Z",
     "start_time": "2019-10-28T03:08:14.092498Z"
    }
   },
   "outputs": [],
   "source": [
    "city = [\"Chicago\", \"Seattle\", \"New York City\"]\n",
    "state = [\"Illinois\", \"Washington\", \"New York\"]\n",
    "employee = [\"Joe\", \"Roberta\", \"Alice\"]"
   ]
  },
  {
   "cell_type": "code",
   "execution_count": 59,
   "metadata": {
    "ExecuteTime": {
     "end_time": "2019-10-28T03:08:14.511744Z",
     "start_time": "2019-10-28T03:08:14.507410Z"
    }
   },
   "outputs": [
    {
     "name": "stdout",
     "output_type": "stream",
     "text": [
      "Joe works in Chicago, Illinois\n",
      "Roberta works in Seattle, Washington\n",
      "Alice works in New York City, New York\n"
     ]
    }
   ],
   "source": [
    "# loop through multiple sequences with zipping \n",
    "for employee, city, state in zip(employee, city, state):\n",
    "    print(\"{} works in {}, {}\".format(employee, city, state))"
   ]
  },
  {
   "cell_type": "code",
   "execution_count": null,
   "metadata": {},
   "outputs": [],
   "source": []
  },
  {
   "cell_type": "code",
   "execution_count": null,
   "metadata": {},
   "outputs": [],
   "source": []
  }
 ],
 "metadata": {
  "kernelspec": {
   "display_name": "Python 3",
   "language": "python",
   "name": "python3"
  },
  "language_info": {
   "codemirror_mode": {
    "name": "ipython",
    "version": 3
   },
   "file_extension": ".py",
   "mimetype": "text/x-python",
   "name": "python",
   "nbconvert_exporter": "python",
   "pygments_lexer": "ipython3",
   "version": "3.7.4"
  }
 },
 "nbformat": 4,
 "nbformat_minor": 2
}
