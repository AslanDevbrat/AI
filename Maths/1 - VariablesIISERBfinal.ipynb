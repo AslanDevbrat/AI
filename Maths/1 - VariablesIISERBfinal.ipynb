{
 "cells": [
  {
   "cell_type": "markdown",
   "metadata": {},
   "source": [
    "\n",
    "\n",
    "### Python Variables, Assignments, Comparisons and Other Basics"
   ]
  },
  {
   "cell_type": "markdown",
   "metadata": {},
   "source": [
    "## What is Python? "
   ]
  },
  {
   "cell_type": "markdown",
   "metadata": {},
   "source": [
    "[Python](https://en.wikipedia.org/wiki/Python_(programming_language) is a [General-Purpose Programming Language](https://en.wikipedia.org/wiki/General-purpose_programming_language) first invented around 1989 by Guido van Rossum. From its inception, Python has been known for its design philosophy to promote readability and therefore is concise, straight-forward and easy to understand especially for beginner programmers. \n",
    "\n",
    "Python has become the programming language of choice for many individuals working in Data Science for many reasons. Some of these reasons include:\n",
    "\n",
    "- Python has a multitude of scientific packages for data analysis, machine learning, data visualization and natural language processing \n",
    "- Python has powerful and useful [IDEs](https://en.wikipedia.org/wiki/Integrated_development_environment) such as Jupyter Notebook \n",
    "- Python is a powerful language that allows scalability \n",
    "- Python has an increasing large ecosystem and community\n"
   ]
  },
  {
   "cell_type": "markdown",
   "metadata": {},
   "source": [
    "# Introductory Topics for Python Programming"
   ]
  },
  {
   "cell_type": "markdown",
   "metadata": {},
   "source": [
    "##  Comments"
   ]
  },
  {
   "cell_type": "markdown",
   "metadata": {},
   "source": [
    "\n",
    "\n",
    "__Helpul Points:__\n",
    "1. There are certain universal guides for commenting that you should follow. In general, comments should explain WHY not WHAT (with some exceptions). For example, here are some uses of commenting:\n",
    "> a. Explaining something to the reader that may not be obvious<br>\n",
    "> b. Clarifying your intention behind a line or block of code<br>\n",
    "> c. Setting a reminder to change or input something in the future<br> \n",
    "2. Additionally, there are guides of how NOT to comment. For example, explaining every variable assignment is considered unnecessary and overkill \n",
    "3. See [this](https://blog.codinghorror.com/code-tells-you-how-comments-tell-you-why/) blogpost for a more philosophical discussion around commenting \n"
   ]
  },
  {
   "cell_type": "markdown",
   "metadata": {},
   "source": [
    "### Example 1 (Single-Line Comment):"
   ]
  },
  {
   "cell_type": "code",
   "execution_count": 1,
   "metadata": {
    "ExecuteTime": {
     "end_time": "2019-08-14T02:22:52.479227Z",
     "start_time": "2019-08-14T02:22:52.476278Z"
    }
   },
   "outputs": [],
   "source": [
    "# this is a single-line comment "
   ]
  },
  {
   "cell_type": "markdown",
   "metadata": {},
   "source": [
    "Notice how when running the cell above, there is no output since the line is ignored by the interpreter"
   ]
  },
  {
   "cell_type": "markdown",
   "metadata": {},
   "source": [
    "### Example 2 (Multi-Line String/Comment):"
   ]
  },
  {
   "cell_type": "code",
   "execution_count": 2,
   "metadata": {
    "ExecuteTime": {
     "end_time": "2019-08-14T02:23:02.623818Z",
     "start_time": "2019-08-14T02:23:02.618260Z"
    }
   },
   "outputs": [
    {
     "data": {
      "text/plain": [
       "'\\nthis is a multi-line \\nstring that is used in \\nfunctions to explain \\nthe purpose of the function\\nand is sometimes considered \\na multi-line comment\\n'"
      ]
     },
     "execution_count": 2,
     "metadata": {},
     "output_type": "execute_result"
    }
   ],
   "source": [
    "\"\"\"\n",
    "this is a multi-line \n",
    "string that is used in \n",
    "functions to explain \n",
    "the purpose of the function\n",
    "and is sometimes considered \n",
    "a multi-line comment\n",
    "\"\"\""
   ]
  },
  {
   "cell_type": "markdown",
   "metadata": {},
   "source": [
    "Notice how when running the cell above, there is an output since the line is NOT ignored by the interpreter "
   ]
  },
  {
   "cell_type": "code",
   "execution_count": 3,
   "metadata": {},
   "outputs": [],
   "source": [
    "# comment before the line like this\n",
    "a = 1\n",
    "\n",
    "a = 1 # comment at the end of the line like this \n",
    "\n",
    "a = 1\n",
    "# commenting after the line is possible although discouraged "
   ]
  },
  {
   "cell_type": "markdown",
   "metadata": {},
   "source": [
    "##  Variables in Python "
   ]
  },
  {
   "cell_type": "markdown",
   "metadata": {},
   "source": [
    "__Overview:__\n",
    "- A [Variable](https://en.wikipedia.org/wiki/Variable_(computer_science) in programming is used to give a name to a value so that we can refer to it at other points in the program\n",
    "\n",
    "__Helpful Points:__\n",
    "1. You have the luxury of naming variables according to any name you wish\n",
    "2. However, there are some constraints/rules you must follow:\n",
    ">a. Variable names are case sensitive so the variable `a` is different than the variable `A`<br>\n",
    ">b. There are a list of \"reserved\" names in Python that you should not use to name variables. You can find a complete list of reserved words [here](https://docs.python.org/2.5/ref/keywords.html). You will notice a variable name is a Python keyword because as you type it, the text will turn <font color=\"green\">green</font> <br>\n",
    ">c. Variable names must start with a letter or an underscore but the remainder of the variable can consist of letters, numbers and underscores<br>\n",
    ">d. Multi-variable names can not be separated by a dot (`.`) since this denotes a method (more on this in Lecture 3)\n",
    "3. Additionally, there are some best practices you should follow:\n",
    ">a. Multi-variable names are usually separated by an underscore<br>\n",
    ">b. Variable names should be descriptive and therefore random letters such as a, b, c (with the exception of i and j which are universally understood as rows and columns) should be avoided<br>\n"
   ]
  },
  {
   "cell_type": "markdown",
   "metadata": {},
   "source": [
    "### Variable Assignment"
   ]
  },
  {
   "cell_type": "markdown",
   "metadata": {},
   "source": [
    "__Overview:__\n",
    "- The assignment operator in Python is denoted by the equal sign (`=`) \n",
    "- The variable appears on the left followed by the assignment operator and then the value you wish to assign to the variable (Variable Assingment works left to right)\n",
    "\n"
   ]
  },
  {
   "cell_type": "markdown",
   "metadata": {},
   "source": [
    "### Example 3:"
   ]
  },
  {
   "cell_type": "code",
   "execution_count": 4,
   "metadata": {
    "ExecuteTime": {
     "end_time": "2019-10-23T18:36:29.969860Z",
     "start_time": "2019-10-23T18:36:29.965479Z"
    }
   },
   "outputs": [
    {
     "name": "stdout",
     "output_type": "stream",
     "text": [
      "My first name is  Parthiban\n",
      "My last name is  Srinivasan\n",
      "my first name is Parthiban and my last name is Srinivasan.\n"
     ]
    }
   ],
   "source": [
    "first_name = \"Parthiban\"\n",
    "last_name = \"Srinivasan\"\n",
    "\n",
    "print('My first name is ',first_name)\n",
    "print('My last name is ',last_name)\n",
    "print(f\"my first name is {first_name} and my last name is {last_name}.\")"
   ]
  },
  {
   "cell_type": "markdown",
   "metadata": {},
   "source": [
    "### Example 4 (Chained Assignments): "
   ]
  },
  {
   "cell_type": "markdown",
   "metadata": {},
   "source": [
    "__[Chained Assignments](https://en.wikipedia.org/wiki/Assignment_(computer_science):__ This feature in Python allows one to assign the same value to multiple variables at once.\n"
   ]
  },
  {
   "cell_type": "code",
   "execution_count": 5,
   "metadata": {
    "ExecuteTime": {
     "end_time": "2019-10-23T18:37:55.314390Z",
     "start_time": "2019-10-23T18:37:55.311437Z"
    }
   },
   "outputs": [],
   "source": [
    "i = j = 1"
   ]
  },
  {
   "cell_type": "code",
   "execution_count": 6,
   "metadata": {
    "ExecuteTime": {
     "end_time": "2019-10-23T18:37:57.441392Z",
     "start_time": "2019-10-23T18:37:57.436745Z"
    }
   },
   "outputs": [
    {
     "data": {
      "text/plain": [
       "1"
      ]
     },
     "execution_count": 6,
     "metadata": {},
     "output_type": "execute_result"
    }
   ],
   "source": [
    "i"
   ]
  },
  {
   "cell_type": "code",
   "execution_count": 7,
   "metadata": {
    "ExecuteTime": {
     "end_time": "2019-10-23T18:38:00.533338Z",
     "start_time": "2019-10-23T18:38:00.529481Z"
    }
   },
   "outputs": [
    {
     "data": {
      "text/plain": [
       "1"
      ]
     },
     "execution_count": 7,
     "metadata": {},
     "output_type": "execute_result"
    }
   ],
   "source": [
    "j"
   ]
  },
  {
   "cell_type": "markdown",
   "metadata": {},
   "source": [
    "### Example 5 (Simultaneous Assignments):"
   ]
  },
  {
   "cell_type": "markdown",
   "metadata": {},
   "source": [
    "__[Simultaneous Assignments](https://en.wikipedia.org/wiki/Assignment_(computer_science):__ This feature in Python allows one to assign multiple values to multiple variables at once \n",
    "- Simultaneous Assignments makes \"trading\" values between variables very efficient "
   ]
  },
  {
   "cell_type": "code",
   "execution_count": 8,
   "metadata": {
    "ExecuteTime": {
     "end_time": "2019-10-23T18:38:15.914139Z",
     "start_time": "2019-10-23T18:38:15.909557Z"
    }
   },
   "outputs": [],
   "source": [
    "a, b = 1, 2"
   ]
  },
  {
   "cell_type": "code",
   "execution_count": 9,
   "metadata": {
    "ExecuteTime": {
     "end_time": "2019-10-23T18:38:16.396722Z",
     "start_time": "2019-10-23T18:38:16.392593Z"
    }
   },
   "outputs": [
    {
     "data": {
      "text/plain": [
       "1"
      ]
     },
     "execution_count": 9,
     "metadata": {},
     "output_type": "execute_result"
    }
   ],
   "source": [
    "a"
   ]
  },
  {
   "cell_type": "code",
   "execution_count": 10,
   "metadata": {
    "ExecuteTime": {
     "end_time": "2019-10-23T18:38:16.901317Z",
     "start_time": "2019-10-23T18:38:16.897090Z"
    }
   },
   "outputs": [
    {
     "data": {
      "text/plain": [
       "2"
      ]
     },
     "execution_count": 10,
     "metadata": {},
     "output_type": "execute_result"
    }
   ],
   "source": [
    "b"
   ]
  },
  {
   "cell_type": "code",
   "execution_count": 11,
   "metadata": {
    "ExecuteTime": {
     "end_time": "2019-10-23T18:38:29.062217Z",
     "start_time": "2019-10-23T18:38:29.058972Z"
    }
   },
   "outputs": [],
   "source": [
    "# trading values between variables (without the use of simultaneous assignments)\n",
    "a = 1 \n",
    "b = 2\n",
    "temp = a\n",
    "a = b\n",
    "b = temp "
   ]
  },
  {
   "cell_type": "code",
   "execution_count": 12,
   "metadata": {
    "ExecuteTime": {
     "end_time": "2019-10-23T18:38:29.792940Z",
     "start_time": "2019-10-23T18:38:29.788844Z"
    }
   },
   "outputs": [
    {
     "data": {
      "text/plain": [
       "2"
      ]
     },
     "execution_count": 12,
     "metadata": {},
     "output_type": "execute_result"
    }
   ],
   "source": [
    "a"
   ]
  },
  {
   "cell_type": "code",
   "execution_count": 13,
   "metadata": {
    "ExecuteTime": {
     "end_time": "2019-10-23T18:38:30.795181Z",
     "start_time": "2019-10-23T18:38:30.791069Z"
    }
   },
   "outputs": [
    {
     "data": {
      "text/plain": [
       "1"
      ]
     },
     "execution_count": 13,
     "metadata": {},
     "output_type": "execute_result"
    }
   ],
   "source": [
    "b"
   ]
  },
  {
   "cell_type": "code",
   "execution_count": 14,
   "metadata": {
    "ExecuteTime": {
     "end_time": "2019-10-23T18:38:36.970804Z",
     "start_time": "2019-10-23T18:38:36.967441Z"
    }
   },
   "outputs": [],
   "source": [
    "# trading values between variables (with the use of simultaneous assignments)\n",
    "a = 1 \n",
    "b = 2\n",
    "a,b = b,a"
   ]
  },
  {
   "cell_type": "code",
   "execution_count": 15,
   "metadata": {
    "ExecuteTime": {
     "end_time": "2019-10-23T18:38:37.556794Z",
     "start_time": "2019-10-23T18:38:37.552592Z"
    }
   },
   "outputs": [
    {
     "data": {
      "text/plain": [
       "2"
      ]
     },
     "execution_count": 15,
     "metadata": {},
     "output_type": "execute_result"
    }
   ],
   "source": [
    "a"
   ]
  },
  {
   "cell_type": "code",
   "execution_count": 16,
   "metadata": {
    "ExecuteTime": {
     "end_time": "2019-10-23T18:38:38.118968Z",
     "start_time": "2019-10-23T18:38:38.115182Z"
    }
   },
   "outputs": [
    {
     "data": {
      "text/plain": [
       "1"
      ]
     },
     "execution_count": 16,
     "metadata": {},
     "output_type": "execute_result"
    }
   ],
   "source": [
    "b"
   ]
  },
  {
   "cell_type": "markdown",
   "metadata": {},
   "source": [
    "### Example  6 (Compound Assignments):"
   ]
  },
  {
   "cell_type": "markdown",
   "metadata": {},
   "source": [
    "__[Compound Assignments](https://en.wikipedia.org/wiki/Assignment_(computer_science):__ This feature in Python allows one to perform an operation AND assignment in one step.\n",
    "- Compound Assignments are most commonly used in loops to perform increments (more on this in Lecture 3)\n",
    "- The most common Compound Assignments are `+=`, `-=`, `*=`, `/=`, `%=`\n",
    "- The Compound Assignment is read left to right (operation performed first and then the values is assigned using the assignment operator)"
   ]
  },
  {
   "cell_type": "code",
   "execution_count": 17,
   "metadata": {
    "ExecuteTime": {
     "end_time": "2019-08-14T02:47:45.456235Z",
     "start_time": "2019-08-14T02:47:45.451998Z"
    }
   },
   "outputs": [],
   "source": [
    "i = 0"
   ]
  },
  {
   "cell_type": "code",
   "execution_count": 18,
   "metadata": {
    "ExecuteTime": {
     "end_time": "2019-08-14T02:47:58.276599Z",
     "start_time": "2019-08-14T02:47:58.271635Z"
    }
   },
   "outputs": [],
   "source": [
    "i += 1 "
   ]
  },
  {
   "cell_type": "code",
   "execution_count": 19,
   "metadata": {
    "ExecuteTime": {
     "end_time": "2019-08-14T02:48:03.529111Z",
     "start_time": "2019-08-14T02:48:03.523423Z"
    }
   },
   "outputs": [
    {
     "data": {
      "text/plain": [
       "1"
      ]
     },
     "execution_count": 19,
     "metadata": {},
     "output_type": "execute_result"
    }
   ],
   "source": [
    "i"
   ]
  },
  {
   "cell_type": "markdown",
   "metadata": {},
   "source": [
    "Take special note of the difference between `+=` and `=+`. The former is a compound assignment, whereas the later is a simple assignment and the addition sign implies the sign of the value that is being assigned to the variable:"
   ]
  },
  {
   "cell_type": "markdown",
   "metadata": {},
   "source": [
    "### Problem 1:\n",
    "Create 4 variables called `a`, `b`, `c`, `d` and assign them values of 1, 2, 3, and 4 respectively\n",
    "\n",
    "- Show the outputs of these 4 variables\n",
    "- __BONUS__: try using simultaneous assignments"
   ]
  },
  {
   "cell_type": "code",
   "execution_count": 21,
   "metadata": {
    "ExecuteTime": {
     "end_time": "2019-10-23T18:28:32.069450Z",
     "start_time": "2019-10-23T18:28:32.066872Z"
    }
   },
   "outputs": [
    {
     "name": "stdout",
     "output_type": "stream",
     "text": [
      "a = 1, b = 2,c = 3, d = 4\n"
     ]
    }
   ],
   "source": [
    "# Write your code here\n",
    "a,b,c,d=1,2,3,4\n",
    "print('a = {}, b = {},c = {}, d = {}'.format(a,b,c,d))\n",
    "\n"
   ]
  },
  {
   "cell_type": "markdown",
   "metadata": {},
   "source": [
    "### Problem 2:\n",
    "Increment (add to) your variables called `a`, `b`, `c`, `d` by 1 using Compound Assignments\n",
    "\n",
    "- Show the outputs of these 4 variables"
   ]
  },
  {
   "cell_type": "code",
   "execution_count": 25,
   "metadata": {
    "ExecuteTime": {
     "end_time": "2019-10-23T18:28:32.859653Z",
     "start_time": "2019-10-23T18:28:32.856819Z"
    }
   },
   "outputs": [
    {
     "name": "stdout",
     "output_type": "stream",
     "text": [
      "a = 3, b = 4, c = 5, d = 6\n"
     ]
    }
   ],
   "source": [
    "a+=1\n",
    "b+=1\n",
    "c+=1\n",
    "d+=1\n",
    "print('a = {}, b = {}, c = {}, d = {}'.format(a,b,c,d))\n",
    "\n",
    "\n"
   ]
  },
  {
   "cell_type": "markdown",
   "metadata": {},
   "source": [
    "## Data Types in Python "
   ]
  },
  {
   "cell_type": "markdown",
   "metadata": {},
   "source": [
    "__Overview:__\n",
    "- A __Data Type__ refers to the category in which the object you are creating belongs to \n",
    "- Depending on the way we create the variable, we will be specifying the Type to which we want that variable to belong to\n",
    "- Python has 4 main __Built-In Data Types:__ \n",
    "\n",
    ">1. __[Numeric Types](https://docs.python.org/3/library/stdtypes.html#numeric-types-int-float-complex)__\n",
    ">2. __[Sequence Types](https://docs.python.org/3/library/stdtypes.html#sequence-types-list-tuple-range)__\n",
    ">3. __[Set Types](https://docs.python.org/3/library/stdtypes.html#set-types-set-frozenset)__\n",
    ">4. __[Mapping Types](https://docs.python.org/3/library/stdtypes.html#mapping-types-dict)__\n",
    "\n"
   ]
  },
  {
   "cell_type": "markdown",
   "metadata": {},
   "source": [
    "## Numeric Types in Python "
   ]
  },
  {
   "cell_type": "markdown",
   "metadata": {},
   "source": [
    "__Overview:__\n",
    "- There are 3 distinct numeric types in Python: integers (`int`), floating point numbers (`floats`) and complex numbers (`complex`)\n",
    "> 1. __Int__: `int` type refers to [Integers](https://en.wikipedia.org/wiki/Integer) which describe a number that can be written without a fractional component\n",
    "> 2. __Float__: `float` type refers to [Floating Point Numbers](https://en.wikipedia.org/wiki/Floating-point_arithmetic#Alternatives_to_floating-point_numbers) which describe a number that has a decimal component\n",
    "> 3. __Complex__: `complex` type refers to [Complex Numbers](https://en.wikipedia.org/wiki/Complex_number) which describes a number that can be expressed in the form of $a+bi$, where a and b are real numbers and i is imaginary number\n",
    "\n"
   ]
  },
  {
   "cell_type": "markdown",
   "metadata": {},
   "source": [
    "### Example 7 (Examples of int):"
   ]
  },
  {
   "cell_type": "code",
   "execution_count": 26,
   "metadata": {
    "ExecuteTime": {
     "end_time": "2019-08-14T03:03:56.409755Z",
     "start_time": "2019-08-14T03:03:56.399515Z"
    }
   },
   "outputs": [
    {
     "data": {
      "text/plain": [
       "int"
      ]
     },
     "execution_count": 26,
     "metadata": {},
     "output_type": "execute_result"
    }
   ],
   "source": [
    "x = 1\n",
    "type(x)"
   ]
  },
  {
   "cell_type": "markdown",
   "metadata": {},
   "source": [
    "### Example 8 (Examples of float):"
   ]
  },
  {
   "cell_type": "code",
   "execution_count": 27,
   "metadata": {
    "ExecuteTime": {
     "end_time": "2019-08-14T03:04:19.657374Z",
     "start_time": "2019-08-14T03:04:19.649031Z"
    }
   },
   "outputs": [
    {
     "data": {
      "text/plain": [
       "float"
      ]
     },
     "execution_count": 27,
     "metadata": {},
     "output_type": "execute_result"
    }
   ],
   "source": [
    "y = 1.0\n",
    "type(y)"
   ]
  },
  {
   "cell_type": "markdown",
   "metadata": {},
   "source": [
    "### Example 9 (Examples of complex):"
   ]
  },
  {
   "cell_type": "code",
   "execution_count": 28,
   "metadata": {
    "ExecuteTime": {
     "end_time": "2019-08-14T03:04:31.830519Z",
     "start_time": "2019-08-14T03:04:31.821195Z"
    }
   },
   "outputs": [
    {
     "data": {
      "text/plain": [
       "complex"
      ]
     },
     "execution_count": 28,
     "metadata": {},
     "output_type": "execute_result"
    }
   ],
   "source": [
    "z = 1j\n",
    "type(z)"
   ]
  },
  {
   "cell_type": "markdown",
   "metadata": {},
   "source": [
    "### Example 10 (Explicit Type Conversion):"
   ]
  },
  {
   "cell_type": "code",
   "execution_count": 29,
   "metadata": {
    "ExecuteTime": {
     "end_time": "2019-08-14T03:05:31.523574Z",
     "start_time": "2019-08-14T03:05:31.518492Z"
    }
   },
   "outputs": [
    {
     "data": {
      "text/plain": [
       "3"
      ]
     },
     "execution_count": 29,
     "metadata": {},
     "output_type": "execute_result"
    }
   ],
   "source": [
    "int(3.9)"
   ]
  },
  {
   "cell_type": "code",
   "execution_count": 30,
   "metadata": {},
   "outputs": [],
   "source": [
    "import math"
   ]
  },
  {
   "cell_type": "code",
   "execution_count": 31,
   "metadata": {},
   "outputs": [
    {
     "data": {
      "text/plain": [
       "3"
      ]
     },
     "execution_count": 31,
     "metadata": {},
     "output_type": "execute_result"
    }
   ],
   "source": [
    "math.floor(3.9)"
   ]
  },
  {
   "cell_type": "markdown",
   "metadata": {},
   "source": [
    "The type conversion between `float` and `int` results in the number being rounded down"
   ]
  },
  {
   "cell_type": "code",
   "execution_count": 32,
   "metadata": {
    "ExecuteTime": {
     "end_time": "2019-08-14T03:05:41.885732Z",
     "start_time": "2019-08-14T03:05:41.877830Z"
    }
   },
   "outputs": [
    {
     "data": {
      "text/plain": [
       "3.0"
      ]
     },
     "execution_count": 32,
     "metadata": {},
     "output_type": "execute_result"
    }
   ],
   "source": [
    "float(3)"
   ]
  },
  {
   "cell_type": "markdown",
   "metadata": {},
   "source": [
    "The type conversion between `int` and `float` results in an additional decimal place being added to the number"
   ]
  },
  {
   "cell_type": "markdown",
   "metadata": {},
   "source": [
    "## Arithmetic in Python "
   ]
  },
  {
   "cell_type": "markdown",
   "metadata": {},
   "source": [
    "__Overview:__\n",
    "- Python allows the capability of performing multiple arithmetic operations such as:\n",
    "    - Addition (`+`)\n",
    "    - Subtraction (`-`)\n",
    "    - Multiplication (`*`)\n",
    "    - Division (`/`)\n",
    "    - Floor Divison (`//`)\n",
    "    - Remainder (`%`)\n",
    "    - Exponentiation (`**`)\n",
    "    \n",
    "__Helpful Points:__\n",
    "1. If you are performing an arithmetic operation using an `int` AND `float`, the result will become a type `float`\n",
    "2. The `^` symbol in Python is NOT the exponent, instead it refers to the [Bitwise Operation XOR](https://en.wikipedia.org/wiki/Bitwise_operation#XOR) (more on this below)\n",
    "3. Dividing by zero produces an error (`ZeroDivisionError: division by zero`)\n",
    "4. Base Python also has some built-in mathematical functions such as `max()`, `min()`, `sum()`, `round()`, etc.\n",
    "\n",
    "__Practice:__ Examples of arithmetic in Python "
   ]
  },
  {
   "cell_type": "markdown",
   "metadata": {},
   "source": [
    "### Problem 3:\n",
    "Create a variable `e` that is the sum of `a`, `b`, `c`, and `d` and then show the output of the variable `e`"
   ]
  },
  {
   "cell_type": "code",
   "execution_count": 33,
   "metadata": {
    "ExecuteTime": {
     "end_time": "2019-10-23T18:16:05.303024Z",
     "start_time": "2019-10-23T18:16:05.300359Z"
    }
   },
   "outputs": [
    {
     "name": "stdout",
     "output_type": "stream",
     "text": [
      "e =  18\n"
     ]
    }
   ],
   "source": [
    "#write your code here\n",
    "e = a+b+c+d\n",
    "print('e = ',e)\n",
    "\n"
   ]
  },
  {
   "cell_type": "code",
   "execution_count": 34,
   "metadata": {
    "scrolled": true
   },
   "outputs": [
    {
     "name": "stdout",
     "output_type": "stream",
     "text": [
      "18\n"
     ]
    }
   ],
   "source": [
    "e=a+b+c+d\n",
    "print(e)"
   ]
  },
  {
   "cell_type": "code",
   "execution_count": 35,
   "metadata": {},
   "outputs": [
    {
     "name": "stdout",
     "output_type": "stream",
     "text": [
      "18\n"
     ]
    }
   ],
   "source": [
    "e = sum([a,b,c,d])\n",
    "print(e)"
   ]
  },
  {
   "cell_type": "code",
   "execution_count": 36,
   "metadata": {
    "scrolled": false
   },
   "outputs": [],
   "source": [
    "e=sum([a,b])"
   ]
  },
  {
   "cell_type": "markdown",
   "metadata": {},
   "source": [
    "### Problem 4:\n",
    "\n",
    "Calculate the area of a circle which is given by the following formula: $A = \\pi * r^2$ and show the output of the area\n",
    "- Create a variable `pi` that will store the value 3.14 \n",
    "- Create a variable `r` that will store the value 3\n",
    "- Then create a variable `area` that will store the area of the circle\n",
    "- Show the output of the `area` variable\n",
    "- __BONUS__: try using simulataneous assignments"
   ]
  },
  {
   "cell_type": "code",
   "execution_count": 38,
   "metadata": {
    "ExecuteTime": {
     "end_time": "2019-10-23T18:16:49.838393Z",
     "start_time": "2019-10-23T18:16:49.836078Z"
    }
   },
   "outputs": [
    {
     "name": "stdout",
     "output_type": "stream",
     "text": [
      "area =  28.26\n"
     ]
    }
   ],
   "source": [
    "# Write your code here\n",
    "pi = 3.14\n",
    "r = 3\n",
    "area = pi*(r**2)\n",
    "print('area = ',area)\n"
   ]
  },
  {
   "cell_type": "markdown",
   "metadata": {},
   "source": [
    "### Problem 5:\n",
    "\n",
    "Calculate the minimum of a absolute value of -10 and the square of -4\n",
    "- Create a variable `abs_val` that will store the absolute value of -10 \n",
    "- Create a variable `square_val` that will store the square of -4\n",
    "- Then create a variable `minimum` that will store the minimum value of the two variables above \n",
    "- Show the output of the `minimum` variable\n",
    "- __BONUS__: try using simulataneous assignments"
   ]
  },
  {
   "cell_type": "code",
   "execution_count": 41,
   "metadata": {
    "ExecuteTime": {
     "end_time": "2019-10-23T18:17:37.057279Z",
     "start_time": "2019-10-23T18:17:37.054800Z"
    }
   },
   "outputs": [
    {
     "name": "stdout",
     "output_type": "stream",
     "text": [
      "minimun =  10\n"
     ]
    }
   ],
   "source": [
    "# Write your code here\n",
    "abs_val = abs(-10)\n",
    "square_val = (-4)**2\n",
    "minimun = min(abs_val,square_val)\n",
    "print('minimun = ',minimun)"
   ]
  },
  {
   "cell_type": "markdown",
   "metadata": {},
   "source": [
    "## Text Sequence Type (Str) in Python "
   ]
  },
  {
   "cell_type": "markdown",
   "metadata": {},
   "source": [
    "__Overview:__\n",
    "- A __String__ is a sequence of characters and is handled in Python as a `str` type\n",
    "- Textual data (words, sentences, paragraphs, etc.) are stored as a String \n",
    "- Strings can be written in 3 main ways:\n",
    "> 1. __Single quotes__: this allows embedded double quotes\n",
    "> 2. __Double quotes__: this allowes embedded single quotes\n",
    "> 3. __Triple quotes__ (with either single or double quotes)\n"
   ]
  },
  {
   "cell_type": "markdown",
   "metadata": {},
   "source": [
    "### Example 11 (Creating a String with Single Quotes):"
   ]
  },
  {
   "cell_type": "code",
   "execution_count": 42,
   "metadata": {
    "ExecuteTime": {
     "end_time": "2019-10-28T00:31:37.788619Z",
     "start_time": "2019-10-28T00:31:37.785924Z"
    }
   },
   "outputs": [],
   "source": [
    "favorite_animal = 'giraffe'"
   ]
  },
  {
   "cell_type": "code",
   "execution_count": 43,
   "metadata": {
    "ExecuteTime": {
     "end_time": "2019-10-28T00:31:37.967058Z",
     "start_time": "2019-10-28T00:31:37.962654Z"
    }
   },
   "outputs": [
    {
     "data": {
      "text/plain": [
       "'giraffe'"
      ]
     },
     "execution_count": 43,
     "metadata": {},
     "output_type": "execute_result"
    }
   ],
   "source": [
    "favorite_animal"
   ]
  },
  {
   "cell_type": "code",
   "execution_count": 44,
   "metadata": {
    "ExecuteTime": {
     "end_time": "2019-10-28T00:31:38.125317Z",
     "start_time": "2019-10-28T00:31:38.121453Z"
    }
   },
   "outputs": [
    {
     "data": {
      "text/plain": [
       "str"
      ]
     },
     "execution_count": 44,
     "metadata": {},
     "output_type": "execute_result"
    }
   ],
   "source": [
    "type(favorite_animal)"
   ]
  },
  {
   "cell_type": "markdown",
   "metadata": {},
   "source": [
    "### Example 12 (Type Conversion between Strings and Numeric Types):"
   ]
  },
  {
   "cell_type": "code",
   "execution_count": 45,
   "metadata": {
    "ExecuteTime": {
     "end_time": "2019-10-28T00:31:44.415201Z",
     "start_time": "2019-10-28T00:31:44.403332Z"
    }
   },
   "outputs": [
    {
     "data": {
      "text/plain": [
       "'3.5'"
      ]
     },
     "execution_count": 45,
     "metadata": {},
     "output_type": "execute_result"
    }
   ],
   "source": [
    "# convert float to string\n",
    "x = 3.5\n",
    "str(x)"
   ]
  },
  {
   "cell_type": "code",
   "execution_count": 46,
   "metadata": {
    "ExecuteTime": {
     "end_time": "2019-10-28T00:31:44.663316Z",
     "start_time": "2019-10-28T00:31:44.659010Z"
    }
   },
   "outputs": [
    {
     "data": {
      "text/plain": [
       "'10'"
      ]
     },
     "execution_count": 46,
     "metadata": {},
     "output_type": "execute_result"
    }
   ],
   "source": [
    "# convert int to string\n",
    "x = 10\n",
    "str(10)"
   ]
  },
  {
   "cell_type": "code",
   "execution_count": 47,
   "metadata": {
    "ExecuteTime": {
     "end_time": "2019-10-28T00:31:45.898444Z",
     "start_time": "2019-10-28T00:31:45.894292Z"
    }
   },
   "outputs": [
    {
     "data": {
      "text/plain": [
       "3.5"
      ]
     },
     "execution_count": 47,
     "metadata": {},
     "output_type": "execute_result"
    }
   ],
   "source": [
    "# convert string to float\n",
    "x = \"3.5\"\n",
    "float(x)"
   ]
  },
  {
   "cell_type": "code",
   "execution_count": 48,
   "metadata": {
    "ExecuteTime": {
     "end_time": "2019-10-28T00:31:46.248149Z",
     "start_time": "2019-10-28T00:31:46.244152Z"
    }
   },
   "outputs": [
    {
     "data": {
      "text/plain": [
       "10"
      ]
     },
     "execution_count": 48,
     "metadata": {},
     "output_type": "execute_result"
    }
   ],
   "source": [
    "# convert string to int\n",
    "x = \"10\"\n",
    "int(x)"
   ]
  },
  {
   "cell_type": "code",
   "execution_count": 49,
   "metadata": {
    "ExecuteTime": {
     "end_time": "2019-10-28T00:32:05.738844Z",
     "start_time": "2019-10-28T00:32:05.731846Z"
    }
   },
   "outputs": [
    {
     "ename": "ValueError",
     "evalue": "invalid literal for int() with base 10: 'python'",
     "output_type": "error",
     "traceback": [
      "\u001b[1;31m---------------------------------------------------------------------------\u001b[0m",
      "\u001b[1;31mValueError\u001b[0m                                Traceback (most recent call last)",
      "\u001b[1;32m<ipython-input-49-afea223cf398>\u001b[0m in \u001b[0;36m<module>\u001b[1;34m\u001b[0m\n\u001b[0;32m      1\u001b[0m \u001b[1;31m# convert string to int\u001b[0m\u001b[1;33m\u001b[0m\u001b[1;33m\u001b[0m\u001b[1;33m\u001b[0m\u001b[0m\n\u001b[0;32m      2\u001b[0m \u001b[0mx\u001b[0m \u001b[1;33m=\u001b[0m \u001b[1;34m\"python\"\u001b[0m\u001b[1;33m\u001b[0m\u001b[1;33m\u001b[0m\u001b[0m\n\u001b[1;32m----> 3\u001b[1;33m \u001b[0mint\u001b[0m\u001b[1;33m(\u001b[0m\u001b[0mx\u001b[0m\u001b[1;33m)\u001b[0m\u001b[1;33m\u001b[0m\u001b[1;33m\u001b[0m\u001b[0m\n\u001b[0m",
      "\u001b[1;31mValueError\u001b[0m: invalid literal for int() with base 10: 'python'"
     ]
    }
   ],
   "source": [
    "# convert string to int\n",
    "x = \"python\"\n",
    "int(x)"
   ]
  },
  {
   "cell_type": "code",
   "execution_count": 50,
   "metadata": {
    "ExecuteTime": {
     "end_time": "2019-10-28T00:32:07.827518Z",
     "start_time": "2019-10-28T00:32:07.815263Z"
    }
   },
   "outputs": [
    {
     "name": "stdout",
     "output_type": "stream",
     "text": [
      "Variable          Type       Data/Info\n",
      "--------------------------------------\n",
      "a                 int        3\n",
      "abs_val           int        10\n",
      "area              float      28.26\n",
      "b                 int        4\n",
      "c                 int        5\n",
      "d                 int        6\n",
      "e                 int        7\n",
      "favorite_animal   str        giraffe\n",
      "first_name        str        Parthiban\n",
      "i                 int        1\n",
      "j                 int        1\n",
      "last_name         str        Srinivasan\n",
      "math              module     <module 'math' (built-in)>\n",
      "minimun           int        10\n",
      "pi                float      3.14\n",
      "r                 int        3\n",
      "square_val        int        16\n",
      "temp              int        1\n",
      "x                 str        python\n",
      "y                 float      1.0\n",
      "z                 complex    1j\n"
     ]
    }
   ],
   "source": [
    "# displays all the variables that are currently saved in the environment in a nice fashion\n",
    "%whos"
   ]
  },
  {
   "cell_type": "markdown",
   "metadata": {},
   "source": [
    "## Boolean Logic in Python "
   ]
  },
  {
   "cell_type": "markdown",
   "metadata": {},
   "source": [
    "__Overview:__\n",
    "- __[Boolean Values](https://docs.python.org/3/library/stdtypes.html#boolean-values):__ Boolean Values in Python are the two constant objects `False` and `True`\n",
    "- These two objects are case sensitive \n",
    "- Boolean Values can behave like integers when used in arithmetic operators or numeric contexts in general (`0` - `False` and `1` - `True`)\n"
   ]
  },
  {
   "cell_type": "markdown",
   "metadata": {},
   "source": [
    "### Example 13 (Creating Variables with Boolean Values):"
   ]
  },
  {
   "cell_type": "code",
   "execution_count": 51,
   "metadata": {
    "ExecuteTime": {
     "end_time": "2019-10-28T00:32:21.065992Z",
     "start_time": "2019-10-28T00:32:21.063673Z"
    }
   },
   "outputs": [],
   "source": [
    "a = True"
   ]
  },
  {
   "cell_type": "code",
   "execution_count": 52,
   "metadata": {
    "ExecuteTime": {
     "end_time": "2019-10-28T00:32:21.255463Z",
     "start_time": "2019-10-28T00:32:21.251445Z"
    }
   },
   "outputs": [
    {
     "data": {
      "text/plain": [
       "bool"
      ]
     },
     "execution_count": 52,
     "metadata": {},
     "output_type": "execute_result"
    }
   ],
   "source": [
    "type(a)"
   ]
  },
  {
   "cell_type": "markdown",
   "metadata": {},
   "source": [
    "### Example 14 (Type Conversion with bool type):"
   ]
  },
  {
   "cell_type": "code",
   "execution_count": 53,
   "metadata": {
    "ExecuteTime": {
     "end_time": "2019-10-28T00:32:26.234564Z",
     "start_time": "2019-10-28T00:32:26.231828Z"
    }
   },
   "outputs": [],
   "source": [
    "c = bool(b)"
   ]
  },
  {
   "cell_type": "code",
   "execution_count": 54,
   "metadata": {
    "ExecuteTime": {
     "end_time": "2019-10-28T00:32:26.439897Z",
     "start_time": "2019-10-28T00:32:26.435971Z"
    }
   },
   "outputs": [
    {
     "data": {
      "text/plain": [
       "bool"
      ]
     },
     "execution_count": 54,
     "metadata": {},
     "output_type": "execute_result"
    }
   ],
   "source": [
    "type(c)"
   ]
  },
  {
   "cell_type": "code",
   "execution_count": 55,
   "metadata": {
    "ExecuteTime": {
     "end_time": "2019-10-28T00:32:26.936332Z",
     "start_time": "2019-10-28T00:32:26.932394Z"
    }
   },
   "outputs": [
    {
     "data": {
      "text/plain": [
       "True"
      ]
     },
     "execution_count": 55,
     "metadata": {},
     "output_type": "execute_result"
    }
   ],
   "source": [
    "c"
   ]
  },
  {
   "cell_type": "code",
   "execution_count": 56,
   "metadata": {
    "ExecuteTime": {
     "end_time": "2019-10-28T00:32:36.756137Z",
     "start_time": "2019-10-28T00:32:36.753226Z"
    }
   },
   "outputs": [],
   "source": [
    "my_name = \"Josephine\"\n",
    "my_name_bool = bool(my_name)"
   ]
  },
  {
   "cell_type": "code",
   "execution_count": 57,
   "metadata": {
    "ExecuteTime": {
     "end_time": "2019-10-28T00:32:37.477592Z",
     "start_time": "2019-10-28T00:32:37.474065Z"
    }
   },
   "outputs": [
    {
     "data": {
      "text/plain": [
       "True"
      ]
     },
     "execution_count": 57,
     "metadata": {},
     "output_type": "execute_result"
    }
   ],
   "source": [
    "my_name_bool"
   ]
  },
  {
   "cell_type": "code",
   "execution_count": 58,
   "metadata": {
    "ExecuteTime": {
     "end_time": "2019-10-28T00:32:37.951064Z",
     "start_time": "2019-10-28T00:32:37.947168Z"
    }
   },
   "outputs": [
    {
     "data": {
      "text/plain": [
       "bool"
      ]
     },
     "execution_count": 58,
     "metadata": {},
     "output_type": "execute_result"
    }
   ],
   "source": [
    "type(my_name_bool)"
   ]
  },
  {
   "cell_type": "code",
   "execution_count": 59,
   "metadata": {
    "ExecuteTime": {
     "end_time": "2019-10-28T00:32:38.336376Z",
     "start_time": "2019-10-28T00:32:38.331927Z"
    }
   },
   "outputs": [
    {
     "data": {
      "text/plain": [
       "False"
      ]
     },
     "execution_count": 59,
     "metadata": {},
     "output_type": "execute_result"
    }
   ],
   "source": [
    "empty = ''\n",
    "bool(empty)"
   ]
  },
  {
   "cell_type": "markdown",
   "metadata": {},
   "source": [
    "### Value Comparisons in Python:"
   ]
  },
  {
   "cell_type": "markdown",
   "metadata": {},
   "source": [
    "__Overview:__\n",
    "- __[Value Comparisons](https://docs.python.org/3/reference/expressions.html#value-comparisons):__ Value Comparisons is the process of comparing the values of two objects using the following comparison operators:\n",
    "    - Strictly less than (`<`)\n",
    "    - Strictly greater than (`>`)\n",
    "    - Equal to (`==`)\n",
    "    - Greater than or Equal to (`>=`)\n",
    "    - Less than or Equal to (`<=`)\n",
    "    - Not Equal to (`!=`)\n",
    "- The result of the Value Comparison will be a Boolean Value (`True` or `False`)\n",
    "    \n",
    "__Helpful Points:__\n",
    "1. The objects that are being compared do not need to have the same type\n",
    "\n"
   ]
  },
  {
   "cell_type": "markdown",
   "metadata": {},
   "source": [
    "### Example 15 (Comparison Operators of the same Type):"
   ]
  },
  {
   "cell_type": "code",
   "execution_count": 60,
   "metadata": {
    "ExecuteTime": {
     "end_time": "2019-08-14T03:51:12.158015Z",
     "start_time": "2019-08-14T03:51:12.151668Z"
    }
   },
   "outputs": [
    {
     "name": "stdout",
     "output_type": "stream",
     "text": [
      "True\n",
      "False\n"
     ]
    }
   ],
   "source": [
    "# equal to operator\n",
    "print(3 == 3)\n",
    "print(3 == 2)"
   ]
  },
  {
   "cell_type": "code",
   "execution_count": 61,
   "metadata": {
    "ExecuteTime": {
     "end_time": "2019-08-14T03:51:18.888745Z",
     "start_time": "2019-08-14T03:51:18.884627Z"
    }
   },
   "outputs": [
    {
     "name": "stdout",
     "output_type": "stream",
     "text": [
      "False\n",
      "True\n"
     ]
    }
   ],
   "source": [
    "# not equal to operator\n",
    "print(3 != 3)\n",
    "print(3 != 2)"
   ]
  },
  {
   "cell_type": "code",
   "execution_count": 62,
   "metadata": {
    "ExecuteTime": {
     "end_time": "2019-08-14T03:51:24.364007Z",
     "start_time": "2019-08-14T03:51:24.358754Z"
    }
   },
   "outputs": [
    {
     "name": "stdout",
     "output_type": "stream",
     "text": [
      "True\n",
      "False\n"
     ]
    }
   ],
   "source": [
    "# greater than operator\n",
    "print(3 > 2)\n",
    "print(3 > 3)"
   ]
  },
  {
   "cell_type": "code",
   "execution_count": 63,
   "metadata": {
    "ExecuteTime": {
     "end_time": "2019-08-14T03:51:29.342960Z",
     "start_time": "2019-08-14T03:51:29.338751Z"
    }
   },
   "outputs": [
    {
     "name": "stdout",
     "output_type": "stream",
     "text": [
      "True\n",
      "True\n"
     ]
    }
   ],
   "source": [
    "# greater than or equal to operator\n",
    "print(3 >= 2)\n",
    "print(3 >= 3)"
   ]
  },
  {
   "cell_type": "markdown",
   "metadata": {},
   "source": [
    "### Problem 6\n",
    "\n",
    "John makes \\\\$10,000 in 80 hours and Ana makes \\\\$5,000 in 35 hours. Print `True` if Ana makes more than John on an hourly rate, otherwise print `False`. \n",
    "\n",
    "- Use the comparison operators in your answer \n",
    "- Use an explanatory print statement before you output your answer to tell the user what the meaning of the answer is "
   ]
  },
  {
   "cell_type": "code",
   "execution_count": 64,
   "metadata": {
    "ExecuteTime": {
     "end_time": "2019-10-23T18:23:33.146415Z",
     "start_time": "2019-10-23T18:23:33.143603Z"
    }
   },
   "outputs": [
    {
     "name": "stdout",
     "output_type": "stream",
     "text": [
      "True\n"
     ]
    }
   ],
   "source": [
    "print(True) if 10000/80< 5000/35 else print(False)"
   ]
  },
  {
   "cell_type": "code",
   "execution_count": null,
   "metadata": {},
   "outputs": [],
   "source": []
  }
 ],
 "metadata": {
  "kernelspec": {
   "display_name": "Python 3",
   "language": "python",
   "name": "python3"
  },
  "language_info": {
   "codemirror_mode": {
    "name": "ipython",
    "version": 3
   },
   "file_extension": ".py",
   "mimetype": "text/x-python",
   "name": "python",
   "nbconvert_exporter": "python",
   "pygments_lexer": "ipython3",
   "version": "3.7.4"
  }
 },
 "nbformat": 4,
 "nbformat_minor": 2
}
